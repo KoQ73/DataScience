{
 "cells": [
  {
   "cell_type": "code",
   "execution_count": 1,
   "metadata": {
    "deletable": false,
    "editable": false
   },
   "outputs": [],
   "source": [
    "# Initialize Otter\n",
    "import otter\n",
    "grader = otter.Notebook(\"hw03.ipynb\")"
   ]
  },
  {
   "cell_type": "markdown",
   "metadata": {},
   "source": [
    "# Homework 3: Text Analysis of Bloomberg Articles\n",
    "\n",
    "## Data Cleaning and EDA\n",
    "\n",
    "### Due Date: Thursday, February 15, 11:59 PM\n",
    "\n",
    "You must submit this assignment to Gradescope by the on-time deadline, Thursday, February 15, at 11:59 PM. Please read the syllabus for the grace period policy. No late submissions beyond the grace period will be accepted. **We strongly encourage you to submit your work to Gradescope several hours before the stated deadline.** This way, you will have ample time to reach out to staff for support if you encounter difficulties with submission. While course staff is happy to help guide you with submitting your assignment ahead of the deadline, we will not respond to last-minute requests for assistance.\n",
    "\n",
    "Please read the instructions carefully when submitting your work to Gradescope.\n",
    "\n",
    "## Collaboration Policy\n",
    "\n",
    "Data science is a collaborative activity. While you may talk with others about the homework, we ask that you **write your solutions individually**. If you do discuss the assignments with others, please **include their names** below.\n"
   ]
  },
  {
   "cell_type": "markdown",
   "metadata": {},
   "source": [
    "**Collaborators**: _list collaborators here_\n"
   ]
  },
  {
   "cell_type": "markdown",
   "metadata": {},
   "source": [
    "## This Assignment\n",
    "\n",
    "Welcome to Homework 3! For this assignment, we will work with Bloomberg news articles on Microsoft and Microsoft stock data (MSFT).\n",
    "\n",
    "In this assignment, you will gain practice with:\n",
    "\n",
    "- Conducting data cleaning and EDA on a text-based dataset,\n",
    "- Manipulating data in `pandas` with the `datetime` and `string` accessors,\n",
    "- Writing regular expressions and using `pandas` RegEx methods, and\n",
    "- Performing sentiment analysis on text using DistilBERT.\n"
   ]
  },
  {
   "cell_type": "code",
   "execution_count": 2,
   "metadata": {},
   "outputs": [],
   "source": [
    "# Run this cell to set up your notebook. \n",
    "import warnings\n",
    "warnings.simplefilter(action=\"ignore\")\n",
    "\n",
    "import re\n",
    "import itertools\n",
    "import numpy as np\n",
    "import pandas as pd\n",
    "import seaborn as sns\n",
    "import matplotlib.pyplot as plt\n",
    "\n",
    "from ds100_utils import *\n",
    "\n",
    "# Ensure that pandas shows at least 280 characters in columns, so we can see full articles.\n",
    "pd.set_option(\"max_colwidth\", 280)\n",
    "plt.style.use(\"fivethirtyeight\")\n",
    "sns.set()\n",
    "sns.set_context(\"talk\")"
   ]
  },
  {
   "cell_type": "markdown",
   "metadata": {},
   "source": [
    "In this assignment, we will use the DistilBERT model, which is a Natural Language Processing (NLP) model designed to understand human language by processing text to capture the context and meaning of words within sentences. You are not expected to know the details of the model, but we will use it in this homework to perform sentiment analysis on textual data. We are importing those tools and the corresponding model below. **If you see any warnings, please ignore them. As long as the cell runs, it shouldn't be any issues.**"
   ]
  },
  {
   "cell_type": "code",
   "execution_count": 3,
   "metadata": {},
   "outputs": [],
   "source": [
    "from transformers import pipeline\n",
    "model_checkpoint = \"distilbert/distilbert-base-uncased-finetuned-sst-2-english\""
   ]
  },
  {
   "cell_type": "markdown",
   "metadata": {},
   "source": [
    "### Score Breakdown\n",
    "\n",
    "Question | Manual| Points\n",
    "--- |---| ---\n",
    "1a |No| 1\n",
    "1b |No| 1\n",
    "1c |No| 3\n",
    "1d |Yes| 1\n",
    "2a |No| 2\n",
    "2b |No| 1\n",
    "2c |No| 2\n",
    "2di |No| 1\n",
    "2dii |Yes| 1\n",
    "3ai |No| 1\n",
    "3aii |No| 1\n",
    "3b |No| 2\n",
    "3ci |No| 1\n",
    "3cii |Yes| 1\n",
    "**Total** | **3** | **19**"
   ]
  },
  {
   "cell_type": "markdown",
   "metadata": {},
   "source": [
    "## Before You Start\n",
    "\n",
    "For each question in the assignment, please write down your answer in the answer cell(s) right below the question.\n",
    "\n",
    "We understand that it is helpful to have extra cells breaking down the process towards reaching your final answer. If you happen to create new cells below your answer to run code, **NEVER** add cells between a question cell and the answer cell below it. It will cause errors when we run the autograder, and it will sometimes cause a failure to generate the PDF file.\n",
    "\n",
    "**Important note: The local autograder tests will not be comprehensive. You can pass the automated tests in your notebook but still fail tests on Gradescope after the grades are released.** Please be sure to check your results carefully.\n",
    "\n",
    "Finally, unless we state otherwise, **do not use for loops or list comprehensions**. The majority of this assignment can be done using built-in commands in `pandas` and `NumPy`.\n",
    "\n",
    "### Debugging Guide\n",
    "\n",
    "If you run into any technical issues, we highly recommend checking out the [Data 100 Debugging Guide](https://ds100.org/debugging-guide/). In this guide, you can find general questions about Datahub, Gradescope, and common `pandas` and RegEx errors.\n"
   ]
  },
  {
   "cell_type": "markdown",
   "metadata": {},
   "source": [
    "<hr style=\"border: 5px solid #003262;\" />\n",
    "<hr style=\"border: 1px solid #fdb515;\" />\n",
    "\n",
    "## Question 1: Importing the Data\n",
    "\n",
    "The data for this assignment is a subset of the financial news dataset from [this github repo](https://github.com/philipperemy/financial-news-dataset). The original datasets are no longer available online due to copyright issues, but we were allowed access for educational purposes. The data in the file `data/msft_bloomberg_news.txt` has been filtered to just Bloomberg articles published between 2010 to 2013 (inclusive) with text that contains \"Microsoft\" or \"MSFT\" (Microsoft's stock name).\n"
   ]
  },
  {
   "cell_type": "markdown",
   "metadata": {
    "deletable": false,
    "editable": false
   },
   "source": [
    "<br>\n",
    "\n",
    "---\n",
    "\n",
    "### Question 1a\n",
    "\n",
    "Let's examine the contents of the `data/msft_bloomberg_news.txt` file. Using the [`open` function](https://docs.python.org/3/library/functions.html#open) and [`read` operation](https://docs.python.org/3/tutorial/inputoutput.html#methods-of-file-objects) on a `python` file object, read **the first 1000 characters** in `data/msft_bloomberg_news.txt` and store your result in the variable `q1a`. Then, display the result so you can read it.\n",
    "\n",
    "**CAUTION: Viewing the contents of large files in a Jupyter Notebook could crash your browser. Be careful not to print the entire contents of the file.**\n"
   ]
  },
  {
   "cell_type": "code",
   "execution_count": 4,
   "metadata": {
    "tags": []
   },
   "outputs": [
    {
     "name": "stdout",
     "output_type": "stream",
     "text": [
      "[{\"id\":46243185,\"title\":\"Opera Jumps Most Ever After Report Facebook May Bid: Oslo Mover\",\"released_at\":\"<date>May 29 2012<\\/date> <time>09:40:58<\\/time>\",\"content\":\"Opera Software ASA (OPERA) , the Norwegian\\nmarker of Internet browsers, surged the most on record in Oslo\\nafter technology website  Pocket-Lint  reported that  Facebook Inc. (FB) \\nmay try to acquire the company.  Opera gained as much as 26 percent, the biggest jump since\\nit first sold shares in 2004. The Oslo-based company rose 18\\npercent to 40.5 kroner at 11:37 a.m., giving it a market value\\nof 4.85 billion kroner ($807 million).  Opera is the last major independent browser left, with the\\nothers owned by companies such as  Microsoft Corp. (MSFT) ,  Google Inc. (GOOG)  \\nand  Apple Inc. (AAPL) , said Aleksander Nilsen, an analyst at Abg Sundal\\nCollier in Oslo. The company has a strong balance sheet, and\\ncould be an attractive target for other companies, such as\\n Mountain View , California-based Google, he said.  \n"
     ]
    }
   ],
   "source": [
    "with open(\"data/msft_bloomberg_news.txt\", \"r\") as f:\n",
    "    q1a = f.read(1000)\n",
    "        \n",
    "print(q1a)"
   ]
  },
  {
   "cell_type": "code",
   "execution_count": 5,
   "metadata": {
    "deletable": false,
    "editable": false
   },
   "outputs": [
    {
     "data": {
      "text/html": [
       "<p><strong><pre style='display: inline;'>q1a</pre></strong> passed! 🌟</p>"
      ],
      "text/plain": [
       "q1a results: All test cases passed!"
      ]
     },
     "execution_count": 5,
     "metadata": {},
     "output_type": "execute_result"
    }
   ],
   "source": [
    "grader.check(\"q1a\")"
   ]
  },
  {
   "cell_type": "markdown",
   "metadata": {
    "deletable": false,
    "editable": false
   },
   "source": [
    "<br>\n",
    "\n",
    "---\n",
    "\n",
    "### Question 1b\n",
    "\n",
    "Based on the printed output you got from `q1a`, what format is the data in? Answer this question by entering the letter corresponding to the right format in the variable `q1b` below.\n",
    "\n",
    "**CAUTION: As a reminder, viewing the contents of large files in a Jupyter Notebook could crash your browser. Be careful not to print the entire contents of the file, and do not use the file explorer to open data files directly.**\n",
    "\n",
    "**A.** CSV<br/>\n",
    "**B.** HTML<br/>\n",
    "**C.** JavaScript Object Notation (JSON)<br/>\n",
    "**D.** Excel XML\n",
    "\n",
    "Answer in the following cell. Your answer should be a string, either `\"A\"`, `\"B\"`, `\"C\"`, or `\"D\"`.\n"
   ]
  },
  {
   "cell_type": "code",
   "execution_count": 6,
   "metadata": {
    "tags": []
   },
   "outputs": [],
   "source": [
    "q1b = \"C\""
   ]
  },
  {
   "cell_type": "code",
   "execution_count": 7,
   "metadata": {
    "deletable": false,
    "editable": false
   },
   "outputs": [
    {
     "data": {
      "text/html": [
       "<p><strong><pre style='display: inline;'>q1b</pre></strong> passed! 🍀</p>"
      ],
      "text/plain": [
       "q1b results: All test cases passed!"
      ]
     },
     "execution_count": 7,
     "metadata": {},
     "output_type": "execute_result"
    }
   ],
   "source": [
    "grader.check(\"q1b\")"
   ]
  },
  {
   "cell_type": "markdown",
   "metadata": {
    "deletable": false,
    "editable": false
   },
   "source": [
    "<br>\n",
    "\n",
    "---\n",
    "\n",
    "### Question 1c\n",
    "\n",
    "`pandas` has built-in readers for many different file formats, including the file format used here to store news articles. To learn more about these, check out the documentation for\n",
    "\n",
    "- `pd.read_csv` [(docs)](https://pandas.pydata.org/pandas-docs/stable/reference/api/pandas.read_csv.html)\n",
    "- `pd.read_html`[(docs)](https://pandas.pydata.org/pandas-docs/stable/reference/api/pandas.read_html.html)\n",
    "- `pd.read_json`[(docs)](https://pandas.pydata.org/docs/reference/api/pandas.read_json.html)\n",
    "- `pd.read_excel`[(docs)](https://pandas.pydata.org/pandas-docs/stable/reference/api/pandas.read_excel.html).\n",
    "\n",
    "For this question, use one of these functions to:\n",
    "1. Load the file `msft_bloomberg_news.txt` in the data folder as a `DataFrame` into the variable `msft_news_df`.\n",
    "2. Set the **index** of `msft_news_df` to correspond to the `id` of each news article.\n",
    "\n",
    "\n",
    "**Hint:** If your code is taking a while to run, you should review your answers to `q1a` and `q1b`; you may have used the incorrect data loading function for the type of the given file."
   ]
  },
  {
   "cell_type": "code",
   "execution_count": 8,
   "metadata": {
    "tags": []
   },
   "outputs": [
    {
     "data": {
      "text/html": [
       "<div>\n",
       "<style scoped>\n",
       "    .dataframe tbody tr th:only-of-type {\n",
       "        vertical-align: middle;\n",
       "    }\n",
       "\n",
       "    .dataframe tbody tr th {\n",
       "        vertical-align: top;\n",
       "    }\n",
       "\n",
       "    .dataframe thead th {\n",
       "        text-align: right;\n",
       "    }\n",
       "</style>\n",
       "<table border=\"1\" class=\"dataframe\">\n",
       "  <thead>\n",
       "    <tr style=\"text-align: right;\">\n",
       "      <th></th>\n",
       "      <th>title</th>\n",
       "      <th>released_at</th>\n",
       "      <th>content</th>\n",
       "      <th>path</th>\n",
       "    </tr>\n",
       "    <tr>\n",
       "      <th>id</th>\n",
       "      <th></th>\n",
       "      <th></th>\n",
       "      <th></th>\n",
       "      <th></th>\n",
       "    </tr>\n",
       "  </thead>\n",
       "  <tbody>\n",
       "    <tr>\n",
       "      <th>46243185</th>\n",
       "      <td>Opera Jumps Most Ever After Report Facebook May Bid: Oslo Mover</td>\n",
       "      <td>&lt;date&gt;May 29 2012&lt;/date&gt; &lt;time&gt;09:40:58&lt;/time&gt;</td>\n",
       "      <td>Opera Software ASA (OPERA) , the Norwegian\\nmarker of Internet browsers, surged the most on record in Oslo\\nafter technology website  Pocket-Lint  reported that  Facebook Inc. (FB) \\nmay try to acquire the company.  Opera gained as much as 26 percent, the biggest jump since\\n...</td>\n",
       "      <td>./2008_2012_msft_bloomberg_news/opera-jumps-most-on-record-after-report-of-facebook-s-interes.txt</td>\n",
       "    </tr>\n",
       "  </tbody>\n",
       "</table>\n",
       "</div>"
      ],
      "text/plain": [
       "                                                                    title  \\\n",
       "id                                                                          \n",
       "46243185  Opera Jumps Most Ever After Report Facebook May Bid: Oslo Mover   \n",
       "\n",
       "                                             released_at  \\\n",
       "id                                                         \n",
       "46243185  <date>May 29 2012</date> <time>09:40:58</time>   \n",
       "\n",
       "                                                                                                                                                                                                                                                                                          content  \\\n",
       "id                                                                                                                                                                                                                                                                                                  \n",
       "46243185  Opera Software ASA (OPERA) , the Norwegian\\nmarker of Internet browsers, surged the most on record in Oslo\\nafter technology website  Pocket-Lint  reported that  Facebook Inc. (FB) \\nmay try to acquire the company.  Opera gained as much as 26 percent, the biggest jump since\\n...   \n",
       "\n",
       "                                                                                                       path  \n",
       "id                                                                                                           \n",
       "46243185  ./2008_2012_msft_bloomberg_news/opera-jumps-most-on-record-after-report-of-facebook-s-interes.txt  "
      ]
     },
     "execution_count": 8,
     "metadata": {},
     "output_type": "execute_result"
    }
   ],
   "source": [
    "msft_news_df = pd.read_json(path_or_buf=\"data/msft_bloomberg_news.txt\")\n",
    "msft_news_df = msft_news_df.set_index(\"id\")\n",
    "msft_news_df.head(1)"
   ]
  },
  {
   "cell_type": "code",
   "execution_count": 9,
   "metadata": {
    "deletable": false,
    "editable": false
   },
   "outputs": [
    {
     "data": {
      "text/html": [
       "<p><strong><pre style='display: inline;'>q1c</pre></strong> passed! 🚀</p>"
      ],
      "text/plain": [
       "q1c results: All test cases passed!"
      ]
     },
     "execution_count": 9,
     "metadata": {},
     "output_type": "execute_result"
    }
   ],
   "source": [
    "grader.check(\"q1c\")"
   ]
  },
  {
   "cell_type": "markdown",
   "metadata": {
    "deletable": false,
    "editable": false
   },
   "source": [
    "<!-- BEGIN QUESTION -->\n",
    "\n",
    "<br>\n",
    "\n",
    "---\n",
    "\n",
    "### Question 1d\n",
    "\n",
    "Suppose we are interested in using the news to predict future stock values. What additional data would we need to predict stock prices, and how could we connect that data to news articles? In addition, what attributes or characteristics of the news might help predict the stock value? "
   ]
  },
  {
   "cell_type": "markdown",
   "metadata": {},
   "source": [
    "The price of the stock at that time."
   ]
  },
  {
   "cell_type": "markdown",
   "metadata": {
    "deletable": false,
    "editable": false
   },
   "source": [
    "<!-- END QUESTION -->\n",
    "\n",
    "<br/>\n",
    "\n",
    "<hr style=\"border: 1px solid #fdb515;\" />\n",
    "\n",
    "## Question 2: Time Analysis\n",
    "\n",
    "After loading in the data, we can start exploring news articles by analyzing the relationships between the release dates (date of publication) and different topics and companies.\n",
    "\n",
    "<br>\n"
   ]
  },
  {
   "attachments": {},
   "cell_type": "markdown",
   "metadata": {
    "deletable": false,
    "editable": false
   },
   "source": [
    "---\n",
    "\n",
    "### Question 2a\n",
    "\n",
    "First, let's extract the date and time from the `released_at` column in `msft_news_df`. Notice that the date and time are encoded in the following format:\n",
    "\n",
    "```\n",
    "<date>May 29 2012</date> <time>09:40:58</time>\n",
    "<date>May 18 2011</date> <time>22:42:40</time>\n",
    "<date>August 15 2012</date> <time>00:09:02</time>\n",
    "<date>July 1 2011</date> <time>22:12:37</time>\n",
    "...\n",
    "```\n",
    "\n",
    "There are several ways to convert this to a `Timestamp` object that we can use more easily. However, for this assignment, we are going to use string manipulation functions. \n",
    "\n",
    "Create a regular expression that extracts the Month, Day, Year, Hour, Minute, and Second from the `msft_news_df[\"released_at\"]` column. You should create a new `DataFrame` called `dates` that contains:\n",
    "1. The same index as `msft_news_df` (`id`) and\n",
    "2. Column labels: `\"Month\"`, `\"Day\"`, `\"Year\"`, `\"Hour\"`, `\"Minute\"`, `\"Second\"`.\n",
    "\n",
    "Additionally, convert all numerical values (`\"Year\"`, `\"Day\"`, `\"Hour\"`, `\"Minute\"`, `\"Second\"`) to type `int`.\n",
    "\n",
    "**Hint 1:** You should use the [`Series.str.extract`](https://pandas.pydata.org/docs/reference/api/pandas.Series.str.extract.html) function.\n",
    "\n",
    "**Hint 2:** Don't forget to use raw strings and capture groups. Copy the above example text into [regex101.com](https://regex101.com/) to experiment with your regular expressions.\n",
    "\n",
    "**Hint 3:** It might be helpful to break this up into a couple of steps (e.g., first extract date values such as Month, Day, and Year and then extract time values such as Hour, Minute, and Second)."
   ]
  },
  {
   "cell_type": "code",
   "execution_count": 10,
   "metadata": {
    "tags": []
   },
   "outputs": [
    {
     "data": {
      "text/html": [
       "<div>\n",
       "<style scoped>\n",
       "    .dataframe tbody tr th:only-of-type {\n",
       "        vertical-align: middle;\n",
       "    }\n",
       "\n",
       "    .dataframe tbody tr th {\n",
       "        vertical-align: top;\n",
       "    }\n",
       "\n",
       "    .dataframe thead th {\n",
       "        text-align: right;\n",
       "    }\n",
       "</style>\n",
       "<table border=\"1\" class=\"dataframe\">\n",
       "  <thead>\n",
       "    <tr style=\"text-align: right;\">\n",
       "      <th></th>\n",
       "      <th>Month</th>\n",
       "      <th>Day</th>\n",
       "      <th>Year</th>\n",
       "      <th>Hour</th>\n",
       "      <th>Minute</th>\n",
       "      <th>Second</th>\n",
       "    </tr>\n",
       "    <tr>\n",
       "      <th>id</th>\n",
       "      <th></th>\n",
       "      <th></th>\n",
       "      <th></th>\n",
       "      <th></th>\n",
       "      <th></th>\n",
       "      <th></th>\n",
       "    </tr>\n",
       "  </thead>\n",
       "  <tbody>\n",
       "    <tr>\n",
       "      <th>46243185</th>\n",
       "      <td>May</td>\n",
       "      <td>29</td>\n",
       "      <td>2012</td>\n",
       "      <td>9</td>\n",
       "      <td>40</td>\n",
       "      <td>58</td>\n",
       "    </tr>\n",
       "    <tr>\n",
       "      <th>73522879</th>\n",
       "      <td>May</td>\n",
       "      <td>18</td>\n",
       "      <td>2011</td>\n",
       "      <td>22</td>\n",
       "      <td>42</td>\n",
       "      <td>40</td>\n",
       "    </tr>\n",
       "    <tr>\n",
       "      <th>29296500</th>\n",
       "      <td>August</td>\n",
       "      <td>15</td>\n",
       "      <td>2012</td>\n",
       "      <td>0</td>\n",
       "      <td>9</td>\n",
       "      <td>2</td>\n",
       "    </tr>\n",
       "    <tr>\n",
       "      <th>49799724</th>\n",
       "      <td>July</td>\n",
       "      <td>1</td>\n",
       "      <td>2011</td>\n",
       "      <td>22</td>\n",
       "      <td>12</td>\n",
       "      <td>37</td>\n",
       "    </tr>\n",
       "    <tr>\n",
       "      <th>20739032</th>\n",
       "      <td>January</td>\n",
       "      <td>18</td>\n",
       "      <td>2012</td>\n",
       "      <td>1</td>\n",
       "      <td>20</td>\n",
       "      <td>28</td>\n",
       "    </tr>\n",
       "    <tr>\n",
       "      <th>...</th>\n",
       "      <td>...</td>\n",
       "      <td>...</td>\n",
       "      <td>...</td>\n",
       "      <td>...</td>\n",
       "      <td>...</td>\n",
       "      <td>...</td>\n",
       "    </tr>\n",
       "    <tr>\n",
       "      <th>75325873</th>\n",
       "      <td>June</td>\n",
       "      <td>27</td>\n",
       "      <td>2012</td>\n",
       "      <td>0</td>\n",
       "      <td>35</td>\n",
       "      <td>58</td>\n",
       "    </tr>\n",
       "    <tr>\n",
       "      <th>49071474</th>\n",
       "      <td>September</td>\n",
       "      <td>24</td>\n",
       "      <td>2013</td>\n",
       "      <td>13</td>\n",
       "      <td>38</td>\n",
       "      <td>57</td>\n",
       "    </tr>\n",
       "    <tr>\n",
       "      <th>12417018</th>\n",
       "      <td>September</td>\n",
       "      <td>14</td>\n",
       "      <td>2011</td>\n",
       "      <td>4</td>\n",
       "      <td>1</td>\n",
       "      <td>0</td>\n",
       "    </tr>\n",
       "    <tr>\n",
       "      <th>25935811</th>\n",
       "      <td>June</td>\n",
       "      <td>28</td>\n",
       "      <td>2010</td>\n",
       "      <td>1</td>\n",
       "      <td>0</td>\n",
       "      <td>0</td>\n",
       "    </tr>\n",
       "    <tr>\n",
       "      <th>21143940</th>\n",
       "      <td>September</td>\n",
       "      <td>8</td>\n",
       "      <td>2011</td>\n",
       "      <td>1</td>\n",
       "      <td>11</td>\n",
       "      <td>1</td>\n",
       "    </tr>\n",
       "  </tbody>\n",
       "</table>\n",
       "<p>4635 rows × 6 columns</p>\n",
       "</div>"
      ],
      "text/plain": [
       "              Month  Day  Year  Hour  Minute  Second\n",
       "id                                                  \n",
       "46243185        May   29  2012     9      40      58\n",
       "73522879        May   18  2011    22      42      40\n",
       "29296500     August   15  2012     0       9       2\n",
       "49799724       July    1  2011    22      12      37\n",
       "20739032    January   18  2012     1      20      28\n",
       "...             ...  ...   ...   ...     ...     ...\n",
       "75325873       June   27  2012     0      35      58\n",
       "49071474  September   24  2013    13      38      57\n",
       "12417018  September   14  2011     4       1       0\n",
       "25935811       June   28  2010     1       0       0\n",
       "21143940  September    8  2011     1      11       1\n",
       "\n",
       "[4635 rows x 6 columns]"
      ]
     },
     "execution_count": 10,
     "metadata": {},
     "output_type": "execute_result"
    }
   ],
   "source": [
    "dates = pd.DataFrame(index=msft_news_df.index.copy())\n",
    "dates[\"Full_date\"] = (\n",
    "    msft_news_df[\"released_at\"].str\n",
    "    .extract(\n",
    "        pat=r\"<date>(.+)</date>\"\n",
    "    )\n",
    ")\n",
    "\n",
    "dates[[\"Month\", \"Day\", \"Year\"]] = (\n",
    "    dates[\"Full_date\"].str\n",
    "    .extract(\n",
    "        pat=r\"(\\w+) (\\d+) (\\d+)\"\n",
    "    )\n",
    ")\n",
    "\n",
    "dates[\"Full_time\"] = (\n",
    "    msft_news_df[\"released_at\"].str\n",
    "    .extract(\n",
    "        pat=r\"<time>(.+)</time>\"\n",
    "    )\n",
    ")\n",
    "\n",
    "dates[[\"Time\", \"Hour\", \"Minute\", \"Second\"]] = (\n",
    "    dates[\"Full_time\"].str\n",
    "    .extract(\n",
    "        pat=r\"((\\d{2}):(\\d{2}):(\\d{2}))\"\n",
    "    )\n",
    ")\n",
    "\n",
    "dates = dates.drop(columns=[\"Full_date\", \"Full_time\", \"Time\"])\n",
    "dates[[\"Year\", \"Day\", \"Hour\", \"Minute\", \"Second\"]] = dates[[\"Year\", \"Day\", \"Hour\", \"Minute\", \"Second\"]].astype(int)\n",
    "dates"
   ]
  },
  {
   "cell_type": "code",
   "execution_count": 11,
   "metadata": {
    "deletable": false,
    "editable": false
   },
   "outputs": [
    {
     "data": {
      "text/html": [
       "<p><strong><pre style='display: inline;'>q2a</pre></strong> passed! 🌈</p>"
      ],
      "text/plain": [
       "q2a results: All test cases passed!"
      ]
     },
     "execution_count": 11,
     "metadata": {},
     "output_type": "execute_result"
    }
   ],
   "source": [
    "grader.check(\"q2a\")"
   ]
  },
  {
   "cell_type": "markdown",
   "metadata": {
    "deletable": false,
    "editable": false
   },
   "source": [
    "<br>\n",
    "\n",
    "---\n",
    "\n",
    "### Question 2b\n",
    "\n",
    "Now that we've figured out how to extract dates, create a new `DataFrame` called `msft_news_2010` that only contains articles released in 2010. This `DataFrame` should contain:\n",
    "1. An index of `id` and\n",
    "2. Columns: `\"title\"`, `\"released_at\"`, `\"content\"`, `\"path\"`, `\"Month\"`, `\"Day\"`, and `\"Year\"`.\n",
    "\n",
    "**Hint:** Consider merging `msft_news_df` with `dates`."
   ]
  },
  {
   "cell_type": "code",
   "execution_count": 12,
   "metadata": {
    "tags": []
   },
   "outputs": [
    {
     "data": {
      "text/html": [
       "<div>\n",
       "<style scoped>\n",
       "    .dataframe tbody tr th:only-of-type {\n",
       "        vertical-align: middle;\n",
       "    }\n",
       "\n",
       "    .dataframe tbody tr th {\n",
       "        vertical-align: top;\n",
       "    }\n",
       "\n",
       "    .dataframe thead th {\n",
       "        text-align: right;\n",
       "    }\n",
       "</style>\n",
       "<table border=\"1\" class=\"dataframe\">\n",
       "  <thead>\n",
       "    <tr style=\"text-align: right;\">\n",
       "      <th></th>\n",
       "      <th>title</th>\n",
       "      <th>released_at</th>\n",
       "      <th>content</th>\n",
       "      <th>path</th>\n",
       "      <th>Month</th>\n",
       "      <th>Day</th>\n",
       "      <th>Year</th>\n",
       "    </tr>\n",
       "    <tr>\n",
       "      <th>id</th>\n",
       "      <th></th>\n",
       "      <th></th>\n",
       "      <th></th>\n",
       "      <th></th>\n",
       "      <th></th>\n",
       "      <th></th>\n",
       "      <th></th>\n",
       "    </tr>\n",
       "  </thead>\n",
       "  <tbody>\n",
       "    <tr>\n",
       "      <th>95357231</th>\n",
       "      <td>Netflix Profit Jumps 44% on New Users</td>\n",
       "      <td>&lt;date&gt;April 21 2010&lt;/date&gt; &lt;time&gt;23:52:36&lt;/time&gt;</td>\n",
       "      <td>Netflix Inc. said first-quarter\\nprofit rose 44 percent as the movie subscription service signed\\nup new customers and increased online offerings.  \\n Net income advanced to $32.3 million, or 59 cents a share,\\nfrom $22.4 million, or 37 cents, a year earlier, the Los Gatos,\\n...</td>\n",
       "      <td>./2008_2012_msft_bloomberg_news/netflix-quarterly-profit-increases-44-as-movie-rental-service-adds-users.txt</td>\n",
       "      <td>April</td>\n",
       "      <td>21</td>\n",
       "      <td>2010</td>\n",
       "    </tr>\n",
       "  </tbody>\n",
       "</table>\n",
       "</div>"
      ],
      "text/plain": [
       "                                          title  \\\n",
       "id                                                \n",
       "95357231  Netflix Profit Jumps 44% on New Users   \n",
       "\n",
       "                                               released_at  \\\n",
       "id                                                           \n",
       "95357231  <date>April 21 2010</date> <time>23:52:36</time>   \n",
       "\n",
       "                                                                                                                                                                                                                                                                                          content  \\\n",
       "id                                                                                                                                                                                                                                                                                                  \n",
       "95357231  Netflix Inc. said first-quarter\\nprofit rose 44 percent as the movie subscription service signed\\nup new customers and increased online offerings.  \\n Net income advanced to $32.3 million, or 59 cents a share,\\nfrom $22.4 million, or 37 cents, a year earlier, the Los Gatos,\\n...   \n",
       "\n",
       "                                                                                                                  path  \\\n",
       "id                                                                                                                       \n",
       "95357231  ./2008_2012_msft_bloomberg_news/netflix-quarterly-profit-increases-44-as-movie-rental-service-adds-users.txt   \n",
       "\n",
       "          Month  Day  Year  \n",
       "id                          \n",
       "95357231  April   21  2010  "
      ]
     },
     "execution_count": 12,
     "metadata": {},
     "output_type": "execute_result"
    }
   ],
   "source": [
    "msft_news_2010 = (\n",
    "    pd.merge(\n",
    "        left=msft_news_df,\n",
    "        right=dates,\n",
    "        left_index=True,\n",
    "        right_index=True\n",
    "    )\n",
    ")\n",
    "\n",
    "msft_news_2010 = msft_news_2010[msft_news_2010[\"Year\"] == 2010]\n",
    "msft_news_2010 = msft_news_2010[[\"title\", \"released_at\", \"content\", \"path\", \"Month\", \"Day\", \"Year\"]]\n",
    "\n",
    "msft_news_2010.head(1)"
   ]
  },
  {
   "cell_type": "code",
   "execution_count": 13,
   "metadata": {
    "deletable": false,
    "editable": false
   },
   "outputs": [
    {
     "data": {
      "text/html": [
       "<p><strong><pre style='display: inline;'>q2b</pre></strong> passed! ✨</p>"
      ],
      "text/plain": [
       "q2b results: All test cases passed!"
      ]
     },
     "execution_count": 13,
     "metadata": {},
     "output_type": "execute_result"
    }
   ],
   "source": [
    "grader.check(\"q2b\")"
   ]
  },
  {
   "cell_type": "markdown",
   "metadata": {},
   "source": [
    "<br>\n",
    "\n",
    "---\n",
    "\n",
    "### Question 2c\n",
    "\n",
    "After processing the article release dates, we can analyze articles about different topics and companies. Note that all the articles in the provided dataset mention Microsoft/MSFT, but they can also mention other companies.\n"
   ]
  },
  {
   "cell_type": "markdown",
   "metadata": {
    "deletable": false,
    "editable": false
   },
   "source": [
    "For each company in the list of `companies` (provided below), add a boolean column to the `msft_news_df` `DataFrame` indicating whether the corresponding company is mentioned in the text of the article. Ultimately, you should add six new columns containing `True`/`False` values to the `DataFrame`: `\"amazon\"`, `\"nintendo\"`, `\"apple\"`, `\"sony\"`, `\"facebook\"`, `\"netflix\"`. You may use a for loop over the list of companies.\n",
    "\n",
    "**Note:** Make the contents of the articles lowercase before searching for the keywords."
   ]
  },
  {
   "cell_type": "code",
   "execution_count": 14,
   "metadata": {
    "tags": []
   },
   "outputs": [
    {
     "data": {
      "text/html": [
       "<div>\n",
       "<style scoped>\n",
       "    .dataframe tbody tr th:only-of-type {\n",
       "        vertical-align: middle;\n",
       "    }\n",
       "\n",
       "    .dataframe tbody tr th {\n",
       "        vertical-align: top;\n",
       "    }\n",
       "\n",
       "    .dataframe thead th {\n",
       "        text-align: right;\n",
       "    }\n",
       "</style>\n",
       "<table border=\"1\" class=\"dataframe\">\n",
       "  <thead>\n",
       "    <tr style=\"text-align: right;\">\n",
       "      <th></th>\n",
       "      <th>title</th>\n",
       "      <th>released_at</th>\n",
       "      <th>content</th>\n",
       "      <th>path</th>\n",
       "      <th>amazon</th>\n",
       "      <th>nintendo</th>\n",
       "      <th>apple</th>\n",
       "      <th>sony</th>\n",
       "      <th>facebook</th>\n",
       "      <th>netflix</th>\n",
       "    </tr>\n",
       "    <tr>\n",
       "      <th>id</th>\n",
       "      <th></th>\n",
       "      <th></th>\n",
       "      <th></th>\n",
       "      <th></th>\n",
       "      <th></th>\n",
       "      <th></th>\n",
       "      <th></th>\n",
       "      <th></th>\n",
       "      <th></th>\n",
       "      <th></th>\n",
       "    </tr>\n",
       "  </thead>\n",
       "  <tbody>\n",
       "    <tr>\n",
       "      <th>46243185</th>\n",
       "      <td>Opera Jumps Most Ever After Report Facebook May Bid: Oslo Mover</td>\n",
       "      <td>&lt;date&gt;May 29 2012&lt;/date&gt; &lt;time&gt;09:40:58&lt;/time&gt;</td>\n",
       "      <td>Opera Software ASA (OPERA) , the Norwegian\\nmarker of Internet browsers, surged the most on record in Oslo\\nafter technology website  Pocket-Lint  reported that  Facebook Inc. (FB) \\nmay try to acquire the company.  Opera gained as much as 26 percent, the biggest jump since\\n...</td>\n",
       "      <td>./2008_2012_msft_bloomberg_news/opera-jumps-most-on-record-after-report-of-facebook-s-interes.txt</td>\n",
       "      <td>False</td>\n",
       "      <td>False</td>\n",
       "      <td>True</td>\n",
       "      <td>False</td>\n",
       "      <td>True</td>\n",
       "      <td>False</td>\n",
       "    </tr>\n",
       "  </tbody>\n",
       "</table>\n",
       "</div>"
      ],
      "text/plain": [
       "                                                                    title  \\\n",
       "id                                                                          \n",
       "46243185  Opera Jumps Most Ever After Report Facebook May Bid: Oslo Mover   \n",
       "\n",
       "                                             released_at  \\\n",
       "id                                                         \n",
       "46243185  <date>May 29 2012</date> <time>09:40:58</time>   \n",
       "\n",
       "                                                                                                                                                                                                                                                                                          content  \\\n",
       "id                                                                                                                                                                                                                                                                                                  \n",
       "46243185  Opera Software ASA (OPERA) , the Norwegian\\nmarker of Internet browsers, surged the most on record in Oslo\\nafter technology website  Pocket-Lint  reported that  Facebook Inc. (FB) \\nmay try to acquire the company.  Opera gained as much as 26 percent, the biggest jump since\\n...   \n",
       "\n",
       "                                                                                                       path  \\\n",
       "id                                                                                                            \n",
       "46243185  ./2008_2012_msft_bloomberg_news/opera-jumps-most-on-record-after-report-of-facebook-s-interes.txt   \n",
       "\n",
       "          amazon  nintendo  apple   sony  facebook  netflix  \n",
       "id                                                           \n",
       "46243185   False     False   True  False      True    False  "
      ]
     },
     "execution_count": 14,
     "metadata": {},
     "output_type": "execute_result"
    }
   ],
   "source": [
    "companies = [\"amazon\", \"nintendo\", \"apple\", \"sony\", \"facebook\", \"netflix\"]\n",
    "\n",
    "for company in companies:\n",
    "    msft_news_df[company] = msft_news_df[\"content\"].str.lower().str.contains(company, regex=False)\n",
    "\n",
    "msft_news_df.head(1)"
   ]
  },
  {
   "cell_type": "code",
   "execution_count": 15,
   "metadata": {
    "deletable": false,
    "editable": false
   },
   "outputs": [
    {
     "data": {
      "text/html": [
       "<p><strong><pre style='display: inline;'>q2c</pre></strong> passed! 🎉</p>"
      ],
      "text/plain": [
       "q2c results: All test cases passed!"
      ]
     },
     "execution_count": 15,
     "metadata": {},
     "output_type": "execute_result"
    }
   ],
   "source": [
    "grader.check(\"q2c\")"
   ]
  },
  {
   "cell_type": "markdown",
   "metadata": {},
   "source": [
    "<br>\n",
    "\n",
    "---\n",
    "\n",
    "### Question 2d\n",
    "\n",
    "Now, we can put everything together to analyze the release dates and volume of articles for different companies.\n"
   ]
  },
  {
   "cell_type": "markdown",
   "metadata": {
    "deletable": false,
    "editable": false
   },
   "source": [
    "#### Question 2d, Part i\n",
    "\n",
    "Create a new `DataFrame` called `year_news` that contains the number of articles mentioning each company in the list `companies` after 2010 (inclusive). `year_news` should have six columns (one column for each company), and the index of this `DataFrame` should be the release year `\"Year\"`."
   ]
  },
  {
   "cell_type": "code",
   "execution_count": 16,
   "metadata": {
    "tags": []
   },
   "outputs": [
    {
     "data": {
      "text/html": [
       "<div>\n",
       "<style scoped>\n",
       "    .dataframe tbody tr th:only-of-type {\n",
       "        vertical-align: middle;\n",
       "    }\n",
       "\n",
       "    .dataframe tbody tr th {\n",
       "        vertical-align: top;\n",
       "    }\n",
       "\n",
       "    .dataframe thead th {\n",
       "        text-align: right;\n",
       "    }\n",
       "</style>\n",
       "<table border=\"1\" class=\"dataframe\">\n",
       "  <thead>\n",
       "    <tr style=\"text-align: right;\">\n",
       "      <th></th>\n",
       "      <th>amazon</th>\n",
       "      <th>nintendo</th>\n",
       "      <th>apple</th>\n",
       "      <th>sony</th>\n",
       "      <th>facebook</th>\n",
       "      <th>netflix</th>\n",
       "    </tr>\n",
       "    <tr>\n",
       "      <th>Year</th>\n",
       "      <th></th>\n",
       "      <th></th>\n",
       "      <th></th>\n",
       "      <th></th>\n",
       "      <th></th>\n",
       "      <th></th>\n",
       "    </tr>\n",
       "  </thead>\n",
       "  <tbody>\n",
       "    <tr>\n",
       "      <th>2010</th>\n",
       "      <td>41</td>\n",
       "      <td>28</td>\n",
       "      <td>190</td>\n",
       "      <td>55</td>\n",
       "      <td>74</td>\n",
       "      <td>9</td>\n",
       "    </tr>\n",
       "    <tr>\n",
       "      <th>2011</th>\n",
       "      <td>101</td>\n",
       "      <td>29</td>\n",
       "      <td>477</td>\n",
       "      <td>104</td>\n",
       "      <td>158</td>\n",
       "      <td>43</td>\n",
       "    </tr>\n",
       "    <tr>\n",
       "      <th>2012</th>\n",
       "      <td>179</td>\n",
       "      <td>44</td>\n",
       "      <td>766</td>\n",
       "      <td>97</td>\n",
       "      <td>271</td>\n",
       "      <td>40</td>\n",
       "    </tr>\n",
       "    <tr>\n",
       "      <th>2013</th>\n",
       "      <td>152</td>\n",
       "      <td>93</td>\n",
       "      <td>687</td>\n",
       "      <td>196</td>\n",
       "      <td>238</td>\n",
       "      <td>51</td>\n",
       "    </tr>\n",
       "  </tbody>\n",
       "</table>\n",
       "</div>"
      ],
      "text/plain": [
       "      amazon  nintendo  apple  sony  facebook  netflix\n",
       "Year                                                  \n",
       "2010      41        28    190    55        74        9\n",
       "2011     101        29    477   104       158       43\n",
       "2012     179        44    766    97       271       40\n",
       "2013     152        93    687   196       238       51"
      ]
     },
     "execution_count": 16,
     "metadata": {},
     "output_type": "execute_result"
    }
   ],
   "source": [
    "year_news = (\n",
    "    pd.merge(\n",
    "        left=msft_news_df,\n",
    "        right=dates,\n",
    "        left_index=True,\n",
    "        right_index=True\n",
    "    )\n",
    ")\n",
    "year_news = year_news[year_news[\"Year\"] >= 2010]\n",
    "year_news = year_news[[\"Year\", \"amazon\", \"nintendo\", \"apple\", \"sony\", \"facebook\", \"netflix\"]]\n",
    "year_news = year_news.groupby(\"Year\").sum()\n",
    "year_news.head()"
   ]
  },
  {
   "cell_type": "code",
   "execution_count": 17,
   "metadata": {
    "deletable": false,
    "editable": false
   },
   "outputs": [
    {
     "data": {
      "text/html": [
       "<p><strong><pre style='display: inline;'>q2di</pre></strong> passed! 🍀</p>"
      ],
      "text/plain": [
       "q2di results: All test cases passed!"
      ]
     },
     "execution_count": 17,
     "metadata": {},
     "output_type": "execute_result"
    }
   ],
   "source": [
    "grader.check(\"q2di\")"
   ]
  },
  {
   "cell_type": "markdown",
   "metadata": {
    "deletable": false,
    "editable": false
   },
   "source": [
    "<!-- BEGIN QUESTION -->\n",
    "\n",
    "#### Question 2d, Part ii\n",
    "\n",
    "Given your code in the previous part is correct, after running the cell below, you should be able to see the number of articles released mentioning `companies` for each year. The plot should look like this:\n",
    "<center>\n",
    "<img src = \"images/num_articles.png\" width = \"500\">\n",
    "</center>"
   ]
  },
  {
   "cell_type": "code",
   "execution_count": 18,
   "metadata": {
    "deletable": false,
    "editable": false
   },
   "outputs": [
    {
     "data": {
      "image/png": "[encoded data removed]",
      "text/plain": [
       "<Figure size 600x400 with 1 Axes>"
      ]
     },
     "metadata": {},
     "output_type": "display_data"
    }
   ],
   "source": [
    "plt.figure(figsize=(6, 4))\n",
    "\n",
    "for company in companies:\n",
    "    sns.lineplot(data=year_news.reset_index(),\n",
    "                 x=\"Year\",\n",
    "                 y=company,\n",
    "                 label=company)\n",
    "plt.legend(fontsize=\"12\")\n",
    "plt.xticks(np.arange(2010, 2014), np.arange(2010, 2014))\n",
    "plt.ylabel(\"Number of Articles\")\n",
    "plt.xlabel(\"Year\")\n",
    "plt.title(\"Number of Articles Released (2010-2013)\");"
   ]
  },
  {
   "cell_type": "markdown",
   "metadata": {
    "deletable": false,
    "editable": false
   },
   "source": [
    "What trends do you notice in the plot above? Feel free to reference or Google any events to explain the trends seen in the graph. What are some limitations of using data and the corresponding plot to analyze the performance of different companies or trends?\n",
    "\n",
    "**Hint:** Remember the source of the articles and the subset of the articles we are analyzing in this assignment."
   ]
  },
  {
   "cell_type": "markdown",
   "metadata": {},
   "source": [
    "_Type your answer here, replacing this text._"
   ]
  },
  {
   "cell_type": "markdown",
   "metadata": {
    "deletable": false,
    "editable": false
   },
   "source": [
    "<!-- END QUESTION -->\n",
    "\n",
    "<br/>\n",
    "\n",
    "<hr style=\"border: 1px solid #fdb515;\" />\n",
    "\n",
    "## Question 3: Sentiment Analysis\n",
    "\n",
    "In this section, we will continue building on our past analysis and specifically look at the **sentiment of each article** —— this will lead us to a much more direct and detailed understanding of how these articles can be used in different applications. **Sentiment analysis** is generally the computational task of classifying the emotions in a body of text as positively or negatively charged.\n"
   ]
  },
  {
   "cell_type": "markdown",
   "metadata": {},
   "source": [
    "We will use a fine-tuned version of the **DistilBERT** model ([github](https://github.com/huggingface/transformers/tree/main/examples/research_projects/distillation), [original paper](https://arxiv.org/abs/1910.01108)) to analyze the sentiment of Bloomberg news articles. DistilBERT is a neural network-based language model (a close relative to ChatGPT); we will use the model checkpoint specifically trained for sentiment analysis. These models are not in scope for Data 100, and we don't expect you to know how they work; take CS182: Neural Networks or Data 102: Data, Inference, and Decisions if you're interested in learning more. We are using them here to show how easy (and useful) these technologies have become.\n",
    "\n",
    "We can use the [HuggingFace library](https://huggingface.co/) to build the sentiment analysis pipeline and load the model. [Here](https://huggingface.co/distilbert/distilbert-base-uncased-finetuned-sst-2-english) is the card of the model checkpoint we will use for this assignment: the model card contains general information about the model, including the base model used, training arguments, training data, etc. Again, you don't need to know this for the course but knowing about model cards is important when you start to use these techniques in your careers.\n",
    "\n",
    "Run the following two cells to set up the sentiment analysis pipeline and see examples of how we can get the sentiment for different strings."
   ]
  },
  {
   "cell_type": "code",
   "execution_count": 19,
   "metadata": {},
   "outputs": [
    {
     "name": "stderr",
     "output_type": "stream",
     "text": [
      "Device set to use cpu\n"
     ]
    },
    {
     "name": "stdout",
     "output_type": "stream",
     "text": [
      "Example 1: [{'label': 'POSITIVE', 'score': 0.9955033659934998}]\n",
      "Example 2: [{'label': 'NEGATIVE', 'score': 0.9987561702728271}]\n",
      "Example 3: [{'label': 'POSITIVE', 'score': 0.9975079298019409}]\n"
     ]
    }
   ],
   "source": [
    "# Load the model\n",
    "sentiment_analysis = pipeline(\"sentiment-analysis\", model=model_checkpoint)\n",
    "\n",
    "# Get the sentiment of a given string\n",
    "sentiment_1 = sentiment_analysis(\"I have two dogs.\")\n",
    "print(\"Example 1: \" + str(sentiment_1))\n",
    "\n",
    "sentiment_2 = sentiment_analysis(\"I do not have dogs.\")\n",
    "print(\"Example 2: \" + str(sentiment_2))\n",
    "\n",
    "sentiment_3 = sentiment_analysis(\"Fortunately, I do not have dogs to worry about.\")\n",
    "print(\"Example 3: \" + str(sentiment_3))"
   ]
  },
  {
   "cell_type": "markdown",
   "metadata": {},
   "source": [
    "As you can see, the model can determine the sentiment of phrases/sentences (not just words). The model measures the phrase's **polarity**, indicating how strongly negative or positive it is on a scale of 0 to 1.\n",
    "\n",
    "**Note:** The output is a list, and each element of the list is a dictionary with two keys (label and score). Note that we could have gotten the sentiments of the two sentences by putting them in a list (batch) and then running the pipeline once (see the code below).\n"
   ]
  },
  {
   "cell_type": "code",
   "execution_count": 20,
   "metadata": {},
   "outputs": [
    {
     "name": "stdout",
     "output_type": "stream",
     "text": [
      "[{'label': 'POSITIVE', 'score': 0.9955033659934998}, {'label': 'NEGATIVE', 'score': 0.9987561702728271}]\n"
     ]
    }
   ],
   "source": [
    "sentiments = sentiment_analysis([\"I have two dogs.\", \"I do not have dogs.\"])\n",
    "print(sentiments)"
   ]
  },
  {
   "cell_type": "markdown",
   "metadata": {},
   "source": [
    "---\n",
    "\n",
    "### Question 3a\n",
    "\n",
    "As running all the articles through the model will take a while, let's first focus on articles released in 2010. We have already filtered these articles in `q2b` and assigned them to the `DataFrame` `msft_news_2010`.\n",
    "\n",
    "Due to model input size constraints, a maximum of 512 words (tokens), and limited computational resources on Datahub, we cannot load the full articles into the pipeline. Instead, we can look at the first sentence that mentions Microsoft in each article."
   ]
  },
  {
   "cell_type": "markdown",
   "metadata": {
    "deletable": false,
    "editable": false
   },
   "source": [
    "#### Question 3a, Part i\n",
    "\n",
    "Assign `microsoft_re` to a regular expression that captures sentences referencing \"microsoft\" or \"msft\" (in lowercase). You should assume all sentences end with `.`, `?`, or `!` and that these punctuation characters are not used for any other purpose. This is of course not true in practice (e.g., this example! and 3.14), but we will often make these simplifying assumptions to enable progress in data analysis.\n",
    "\n",
    "You should develop and test your regular expression using [regex101.com](https://regex101.com/). Here are some practice sentences.\n",
    "\n",
    "```\n",
    "have you ever worked at microsoft? i once did. microsoft is known for\n",
    "their research in ai.\n",
    "```\n",
    "\n",
    "\n",
    "Then:\n",
    "1. Canonicalize the `\"content\"` of the articles by converting the text to lowercase,\n",
    "2. Use the `microsoft_re` regular expression to extract the first sentence mentioning \"microsoft\" or \"msft\" in each article, and \n",
    "3. Create a new column `first_sentence` in `msft_news_2010` with these values. \n",
    "\n",
    "\n",
    "**Hint 1:** `Series.str.findall` function might be useful (might take around a minute to run).\n",
    "\n",
    "**Hint 2:** Consider using the negation character class `r\"[^.!?]\"`\n",
    "\n",
    "**Hint 3:** Some sentences will wrap across lines and the `.` will not match across new lines. "
   ]
  },
  {
   "cell_type": "code",
   "execution_count": 21,
   "metadata": {
    "tags": []
   },
   "outputs": [
    {
     "data": {
      "text/html": [
       "<div>\n",
       "<style scoped>\n",
       "    .dataframe tbody tr th:only-of-type {\n",
       "        vertical-align: middle;\n",
       "    }\n",
       "\n",
       "    .dataframe tbody tr th {\n",
       "        vertical-align: top;\n",
       "    }\n",
       "\n",
       "    .dataframe thead th {\n",
       "        text-align: right;\n",
       "    }\n",
       "</style>\n",
       "<table border=\"1\" class=\"dataframe\">\n",
       "  <thead>\n",
       "    <tr style=\"text-align: right;\">\n",
       "      <th></th>\n",
       "      <th>title</th>\n",
       "      <th>released_at</th>\n",
       "      <th>content</th>\n",
       "      <th>path</th>\n",
       "      <th>Month</th>\n",
       "      <th>Day</th>\n",
       "      <th>Year</th>\n",
       "      <th>first_sentence</th>\n",
       "    </tr>\n",
       "    <tr>\n",
       "      <th>id</th>\n",
       "      <th></th>\n",
       "      <th></th>\n",
       "      <th></th>\n",
       "      <th></th>\n",
       "      <th></th>\n",
       "      <th></th>\n",
       "      <th></th>\n",
       "      <th></th>\n",
       "    </tr>\n",
       "  </thead>\n",
       "  <tbody>\n",
       "    <tr>\n",
       "      <th>95357231</th>\n",
       "      <td>Netflix Profit Jumps 44% on New Users</td>\n",
       "      <td>&lt;date&gt;April 21 2010&lt;/date&gt; &lt;time&gt;23:52:36&lt;/time&gt;</td>\n",
       "      <td>netflix inc. said first-quarter\\nprofit rose 44 percent as the movie subscription service signed\\nup new customers and increased online offerings.  \\n net income advanced to $32.3 million, or 59 cents a share,\\nfrom $22.4 million, or 37 cents, a year earlier, the los gatos,\\n...</td>\n",
       "      <td>./2008_2012_msft_bloomberg_news/netflix-quarterly-profit-increases-44-as-movie-rental-service-adds-users.txt</td>\n",
       "      <td>April</td>\n",
       "      <td>21</td>\n",
       "      <td>2010</td>\n",
       "      <td>\\n “if we had offered a pay-per-view service for new\\nreleases, we would be in conflict with a broad range of\\ncompanies, including wal-mart, microsoft, sony and apple,”\\nhastings said.</td>\n",
       "    </tr>\n",
       "  </tbody>\n",
       "</table>\n",
       "</div>"
      ],
      "text/plain": [
       "                                          title  \\\n",
       "id                                                \n",
       "95357231  Netflix Profit Jumps 44% on New Users   \n",
       "\n",
       "                                               released_at  \\\n",
       "id                                                           \n",
       "95357231  <date>April 21 2010</date> <time>23:52:36</time>   \n",
       "\n",
       "                                                                                                                                                                                                                                                                                          content  \\\n",
       "id                                                                                                                                                                                                                                                                                                  \n",
       "95357231  netflix inc. said first-quarter\\nprofit rose 44 percent as the movie subscription service signed\\nup new customers and increased online offerings.  \\n net income advanced to $32.3 million, or 59 cents a share,\\nfrom $22.4 million, or 37 cents, a year earlier, the los gatos,\\n...   \n",
       "\n",
       "                                                                                                                  path  \\\n",
       "id                                                                                                                       \n",
       "95357231  ./2008_2012_msft_bloomberg_news/netflix-quarterly-profit-increases-44-as-movie-rental-service-adds-users.txt   \n",
       "\n",
       "          Month  Day  Year  \\\n",
       "id                           \n",
       "95357231  April   21  2010   \n",
       "\n",
       "                                                                                                                                                                                       first_sentence  \n",
       "id                                                                                                                                                                                                     \n",
       "95357231    \\n “if we had offered a pay-per-view service for new\\nreleases, we would be in conflict with a broad range of\\ncompanies, including wal-mart, microsoft, sony and apple,”\\nhastings said.  "
      ]
     },
     "execution_count": 21,
     "metadata": {},
     "output_type": "execute_result"
    }
   ],
   "source": [
    "microsoft_re = r'([ \\n]*[^.!?]*\\b(?:microsoft|msft)\\b[^.!?]*[.!?])'\n",
    "msft_news_2010[\"content\"] = msft_news_2010[\"content\"].str.lower()\n",
    "msft_news_2010[\"first_sentence\"] = (\n",
    "    msft_news_2010[\"content\"]\n",
    "    .str\n",
    "    .findall(\n",
    "        pat=microsoft_re\n",
    "    )\n",
    "    .str[0]\n",
    ")\n",
    "\n",
    "msft_news_2010.head(1)"
   ]
  },
  {
   "cell_type": "code",
   "execution_count": 22,
   "metadata": {
    "deletable": false,
    "editable": false
   },
   "outputs": [
    {
     "data": {
      "text/html": [
       "<p><strong><pre style='display: inline;'>q3ai</pre></strong> passed! 🎉</p>"
      ],
      "text/plain": [
       "q3ai results: All test cases passed!"
      ]
     },
     "execution_count": 22,
     "metadata": {},
     "output_type": "execute_result"
    }
   ],
   "source": [
    "grader.check(\"q3ai\")"
   ]
  },
  {
   "cell_type": "markdown",
   "metadata": {
    "deletable": false,
    "editable": false
   },
   "source": [
    "#### Question 3a, Part ii\n",
    "\n",
    "Using the `sentiment_analysis` model, let's now determine the sentiment of the first sentence that mentions \"microsoft\" or \"msft\" for each article. Note that the model outputs both a label and a score. Provide just the score, which should be converted to a negative number if the label is \"NEGATIVE\". Add a new column `sentence_sentiment` to `msft_news_2010` with these values.\n",
    "\n",
    "**Note 1:** Feel free to reference the start of `q3` to understand what `sentiment_analysis` can take in and what it outputs. `sentiment_analysis` may take 1-2 minutes to run when calculating scores for all the sentences.\n",
    "\n",
    "**Note 2:** Given `sentiment_analysis` can take a while to run, feel free to create an additional cell when working with the sentiment scores. Once you've come up with your solution, please consolidate your code into one cell and delete the additional cell created to avoid any autograder issues.  "
   ]
  },
  {
   "cell_type": "code",
   "execution_count": 24,
   "metadata": {},
   "outputs": [],
   "source": [
    "valid_msft_news_2010 = msft_news_2010[~msft_news_2010[\"first_sentence\"].isna()]\n",
    "valid_msft_news_2010[\"first_sentence\"] = valid_msft_news_2010[\"first_sentence\"].apply(sentiment_analysis)"
   ]
  },
  {
   "cell_type": "code",
   "execution_count": 25,
   "metadata": {},
   "outputs": [
    {
     "data": {
      "text/html": [
       "<div>\n",
       "<style scoped>\n",
       "    .dataframe tbody tr th:only-of-type {\n",
       "        vertical-align: middle;\n",
       "    }\n",
       "\n",
       "    .dataframe tbody tr th {\n",
       "        vertical-align: top;\n",
       "    }\n",
       "\n",
       "    .dataframe thead th {\n",
       "        text-align: right;\n",
       "    }\n",
       "</style>\n",
       "<table border=\"1\" class=\"dataframe\">\n",
       "  <thead>\n",
       "    <tr style=\"text-align: right;\">\n",
       "      <th></th>\n",
       "      <th>title</th>\n",
       "      <th>released_at</th>\n",
       "      <th>content</th>\n",
       "      <th>path</th>\n",
       "      <th>Month</th>\n",
       "      <th>Day</th>\n",
       "      <th>Year</th>\n",
       "      <th>first_sentence</th>\n",
       "      <th>sentiment_score</th>\n",
       "      <th>label</th>\n",
       "    </tr>\n",
       "    <tr>\n",
       "      <th>id</th>\n",
       "      <th></th>\n",
       "      <th></th>\n",
       "      <th></th>\n",
       "      <th></th>\n",
       "      <th></th>\n",
       "      <th></th>\n",
       "      <th></th>\n",
       "      <th></th>\n",
       "      <th></th>\n",
       "      <th></th>\n",
       "    </tr>\n",
       "  </thead>\n",
       "  <tbody>\n",
       "    <tr>\n",
       "      <th>95357231</th>\n",
       "      <td>Netflix Profit Jumps 44% on New Users</td>\n",
       "      <td>&lt;date&gt;April 21 2010&lt;/date&gt; &lt;time&gt;23:52:36&lt;/time&gt;</td>\n",
       "      <td>netflix inc. said first-quarter\\nprofit rose 44 percent as the movie subscription service signed\\nup new customers and increased online offerings.  \\n net income advanced to $32.3 million, or 59 cents a share,\\nfrom $22.4 million, or 37 cents, a year earlier, the los gatos,\\n...</td>\n",
       "      <td>./2008_2012_msft_bloomberg_news/netflix-quarterly-profit-increases-44-as-movie-rental-service-adds-users.txt</td>\n",
       "      <td>April</td>\n",
       "      <td>21</td>\n",
       "      <td>2010</td>\n",
       "      <td>[{'label': 'NEGATIVE', 'score': 0.9986212253570557}]</td>\n",
       "      <td>-0.998621</td>\n",
       "      <td>NEGATIVE</td>\n",
       "    </tr>\n",
       "    <tr>\n",
       "      <th>75227517</th>\n",
       "      <td>Republican Win May Be Tax Boon for Companies, High Incomes</td>\n",
       "      <td>&lt;date&gt;November 3 2010&lt;/date&gt; &lt;time&gt;16:46:00&lt;/time&gt;</td>\n",
       "      <td>americans with the highest incomes\\nand u.s. corporations, especially those with international\\noperations, stand to be big winners as newly elected\\ncongressional republicans signal they will extend existing tax\\nbenefits and push for new ones.  republicans will use their ne...</td>\n",
       "      <td>./2008_2012_msft_bloomberg_news/republican-sweep-may-mean-tax-boon-for-u-s-multinationals-high-incomes.txt</td>\n",
       "      <td>November</td>\n",
       "      <td>3</td>\n",
       "      <td>2010</td>\n",
       "      <td>[{'label': 'POSITIVE', 'score': 0.6244933605194092}]</td>\n",
       "      <td>0.624493</td>\n",
       "      <td>POSITIVE</td>\n",
       "    </tr>\n",
       "    <tr>\n",
       "      <th>57850804</th>\n",
       "      <td>Alibaba Says It Now Offers Sohu’s Search Engine</td>\n",
       "      <td>&lt;date&gt;October 29 2010&lt;/date&gt; &lt;time&gt;12:23:43&lt;/time&gt;</td>\n",
       "      <td>alibaba group holding ltd.  said\\nusers of its search-engine service may now access technology\\nsupplied by  sohu.com inc. , as the two chinese companies \\nstrengthen collaboration to challenge industry leader  baidu inc.   users of alibaba’s etao.com search service may now o...</td>\n",
       "      <td>./2008_2012_msft_bloomberg_news/alibaba-says-it-now-offers-sohu-s-search-engine.txt</td>\n",
       "      <td>October</td>\n",
       "      <td>29</td>\n",
       "      <td>2010</td>\n",
       "      <td>[{'label': 'NEGATIVE', 'score': 0.9978576302528381}]</td>\n",
       "      <td>-0.997858</td>\n",
       "      <td>NEGATIVE</td>\n",
       "    </tr>\n",
       "    <tr>\n",
       "      <th>75532360</th>\n",
       "      <td>Slim Solution for Trade Imbalances Is More Buying by China</td>\n",
       "      <td>&lt;date&gt;October 31 2010&lt;/date&gt; &lt;time&gt;16:05:40&lt;/time&gt;</td>\n",
       "      <td>billionaire  carlos slim , the world’s\\nrichest man, said china must buy more and the u.s. needs to step\\nup private investment to reduce the trade imbalance and boost\\ntheir economies.  global currency devaluation efforts will fail in the\\nabsence of economic policies that f...</td>\n",
       "      <td>./2008_2012_msft_bloomberg_news/slim-solution-for-trade-imbalances-is-more-buying-by-china-u-s-investing.txt</td>\n",
       "      <td>October</td>\n",
       "      <td>31</td>\n",
       "      <td>2010</td>\n",
       "      <td>[{'label': 'POSITIVE', 'score': 0.9956529140472412}]</td>\n",
       "      <td>0.995653</td>\n",
       "      <td>POSITIVE</td>\n",
       "    </tr>\n",
       "    <tr>\n",
       "      <th>10176588</th>\n",
       "      <td>S&amp;P 500 to Defy `New Normal' and Rally 17%, Cambiar's Barish Says</td>\n",
       "      <td>&lt;date&gt;December 1 2010&lt;/date&gt; &lt;time&gt;20:38:58&lt;/time&gt;</td>\n",
       "      <td>energy and industrial companies will\\nrise next year, propelling a 17 percent gain in the standard &amp;\\npoor’s 500 index from its current level, according to cambiar\\ninvestors llc’s  brian barish .  next year will be marked by a “multi-speed recovery” as\\nindustries weakened b...</td>\n",
       "      <td>./2008_2012_msft_bloomberg_news/s-p-500-to-defy-pimco-s-new-normal-rise-17-by-end-of-2011-barish-says.txt</td>\n",
       "      <td>December</td>\n",
       "      <td>1</td>\n",
       "      <td>2010</td>\n",
       "      <td>[{'label': 'POSITIVE', 'score': 0.8865005373954773}]</td>\n",
       "      <td>0.886501</td>\n",
       "      <td>POSITIVE</td>\n",
       "    </tr>\n",
       "    <tr>\n",
       "      <th>...</th>\n",
       "      <td>...</td>\n",
       "      <td>...</td>\n",
       "      <td>...</td>\n",
       "      <td>...</td>\n",
       "      <td>...</td>\n",
       "      <td>...</td>\n",
       "      <td>...</td>\n",
       "      <td>...</td>\n",
       "      <td>...</td>\n",
       "      <td>...</td>\n",
       "    </tr>\n",
       "    <tr>\n",
       "      <th>95653167</th>\n",
       "      <td>Apple to Open Digital Store for Mac Computer Apps</td>\n",
       "      <td>&lt;date&gt;December 16 2010&lt;/date&gt; &lt;time&gt;21:57:29&lt;/time&gt;</td>\n",
       "      <td>apple inc.  will open a digital\\nstorefront next month that will try to do for computer software\\nwhat it did for music and mobile applications.  the mac app store will open jan. 6, the cupertino,\\ncalifornia-based company said in a statement today. the aim is\\nto let mac own...</td>\n",
       "      <td>./2008_2012_msft_bloomberg_news/apple-aims-to-do-for-computer-software-what-it-did-for-mobile-music-apps.txt</td>\n",
       "      <td>December</td>\n",
       "      <td>16</td>\n",
       "      <td>2010</td>\n",
       "      <td>[{'label': 'NEGATIVE', 'score': 0.9945847392082214}]</td>\n",
       "      <td>-0.994585</td>\n",
       "      <td>NEGATIVE</td>\n",
       "    </tr>\n",
       "    <tr>\n",
       "      <th>44065090</th>\n",
       "      <td>Buffett Donates $1.6 Billion in Biggest Gift Since 2008 Crisis</td>\n",
       "      <td>&lt;date&gt;July 6 2010&lt;/date&gt; &lt;time&gt;04:00:03&lt;/time&gt;</td>\n",
       "      <td>warren buffett , the billionaire who\\nhas promised to give away 99 percent of his fortune to charity,\\nmade his largest donation since the 2008 financial crisis after\\nprofits at his  berkshire hathaway inc.  jumped.  \\n the value of buffett’s annual gift to the foundation\\ne...</td>\n",
       "      <td>./2008_2012_msft_bloomberg_news/buffett-donates-most-since-2008-after-urging-wealthiest-to-increase-giving.txt</td>\n",
       "      <td>July</td>\n",
       "      <td>6</td>\n",
       "      <td>2010</td>\n",
       "      <td>[{'label': 'POSITIVE', 'score': 0.5365316271781921}]</td>\n",
       "      <td>0.536532</td>\n",
       "      <td>POSITIVE</td>\n",
       "    </tr>\n",
       "    <tr>\n",
       "      <th>12166320</th>\n",
       "      <td>Nintendo Bars Children Under 6 From Viewing 3-D Images on New Game Player</td>\n",
       "      <td>&lt;date&gt;December 30 2010&lt;/date&gt; &lt;time&gt;01:47:51&lt;/time&gt;</td>\n",
       "      <td>nintendo co.  will bar children ages\\n6 and younger from using the 3-d functions of its new handheld\\ngame machine at an introductory event for the device.  “looking at 3-d images for a long time may harm the growth\\nof children’s eyes,” nintendo  said  in a note to visitors ...</td>\n",
       "      <td>./2008_2012_msft_bloomberg_news/nintendo-bars-children-under-6-from-viewing-3-d-images-on-new-game-player.txt</td>\n",
       "      <td>December</td>\n",
       "      <td>30</td>\n",
       "      <td>2010</td>\n",
       "      <td>[{'label': 'POSITIVE', 'score': 0.768213152885437}]</td>\n",
       "      <td>0.768213</td>\n",
       "      <td>POSITIVE</td>\n",
       "    </tr>\n",
       "    <tr>\n",
       "      <th>9764270</th>\n",
       "      <td>Microsoft's Ballmer Says Tablet Computers `Top of Mind' Amid Apple Success</td>\n",
       "      <td>&lt;date&gt;July 30 2010&lt;/date&gt; &lt;time&gt;00:01:56&lt;/time&gt;</td>\n",
       "      <td>microsoft corp.  chief executive\\nofficer  steve ballmer  said tablet computers are high on his\\npriority list as apple inc. takes the lead in a market his\\ncompany has tried to foster for more than a decade.  \\n “today, one of the top issues on my mind is ‘hey there’s a\\ncat...</td>\n",
       "      <td>./2008_2012_msft_bloomberg_news/icrosoft-s-ballmer-says-tablet-computers-top-of-mind-amid-apple-success.txt</td>\n",
       "      <td>July</td>\n",
       "      <td>30</td>\n",
       "      <td>2010</td>\n",
       "      <td>[{'label': 'NEGATIVE', 'score': 0.5879021883010864}]</td>\n",
       "      <td>-0.587902</td>\n",
       "      <td>NEGATIVE</td>\n",
       "    </tr>\n",
       "    <tr>\n",
       "      <th>25935811</th>\n",
       "      <td>Stocks With High Profit, Low Debt Keep Me Calm: John Dorfman</td>\n",
       "      <td>&lt;date&gt;June 28 2010&lt;/date&gt; &lt;time&gt;01:00:00&lt;/time&gt;</td>\n",
       "      <td>with many investors nervous as march\\nhares, this is a good time to look at stocks with high profits\\nand low debt.  \\n i don’t expect a double-dip recession, but if one happens,\\nthese companies should withstand it better than most. they\\nshould also do fine if the economy i...</td>\n",
       "      <td>./2008_2012_msft_bloomberg_news/stocks-with-high-profit-low-debt-keep-me-calm-john-dorfman.txt</td>\n",
       "      <td>June</td>\n",
       "      <td>28</td>\n",
       "      <td>2010</td>\n",
       "      <td>[{'label': 'NEGATIVE', 'score': 0.8975276947021484}]</td>\n",
       "      <td>-0.897528</td>\n",
       "      <td>NEGATIVE</td>\n",
       "    </tr>\n",
       "  </tbody>\n",
       "</table>\n",
       "<p>566 rows × 10 columns</p>\n",
       "</div>"
      ],
      "text/plain": [
       "                                                                               title  \\\n",
       "id                                                                                     \n",
       "95357231                                       Netflix Profit Jumps 44% on New Users   \n",
       "75227517                  Republican Win May Be Tax Boon for Companies, High Incomes   \n",
       "57850804                             Alibaba Says It Now Offers Sohu’s Search Engine   \n",
       "75532360                  Slim Solution for Trade Imbalances Is More Buying by China   \n",
       "10176588           S&P 500 to Defy `New Normal' and Rally 17%, Cambiar's Barish Says   \n",
       "...                                                                              ...   \n",
       "95653167                           Apple to Open Digital Store for Mac Computer Apps   \n",
       "44065090              Buffett Donates $1.6 Billion in Biggest Gift Since 2008 Crisis   \n",
       "12166320   Nintendo Bars Children Under 6 From Viewing 3-D Images on New Game Player   \n",
       "9764270   Microsoft's Ballmer Says Tablet Computers `Top of Mind' Amid Apple Success   \n",
       "25935811                Stocks With High Profit, Low Debt Keep Me Calm: John Dorfman   \n",
       "\n",
       "                                                  released_at  \\\n",
       "id                                                              \n",
       "95357231     <date>April 21 2010</date> <time>23:52:36</time>   \n",
       "75227517   <date>November 3 2010</date> <time>16:46:00</time>   \n",
       "57850804   <date>October 29 2010</date> <time>12:23:43</time>   \n",
       "75532360   <date>October 31 2010</date> <time>16:05:40</time>   \n",
       "10176588   <date>December 1 2010</date> <time>20:38:58</time>   \n",
       "...                                                       ...   \n",
       "95653167  <date>December 16 2010</date> <time>21:57:29</time>   \n",
       "44065090       <date>July 6 2010</date> <time>04:00:03</time>   \n",
       "12166320  <date>December 30 2010</date> <time>01:47:51</time>   \n",
       "9764270       <date>July 30 2010</date> <time>00:01:56</time>   \n",
       "25935811      <date>June 28 2010</date> <time>01:00:00</time>   \n",
       "\n",
       "                                                                                                                                                                                                                                                                                          content  \\\n",
       "id                                                                                                                                                                                                                                                                                                  \n",
       "95357231  netflix inc. said first-quarter\\nprofit rose 44 percent as the movie subscription service signed\\nup new customers and increased online offerings.  \\n net income advanced to $32.3 million, or 59 cents a share,\\nfrom $22.4 million, or 37 cents, a year earlier, the los gatos,\\n...   \n",
       "75227517  americans with the highest incomes\\nand u.s. corporations, especially those with international\\noperations, stand to be big winners as newly elected\\ncongressional republicans signal they will extend existing tax\\nbenefits and push for new ones.  republicans will use their ne...   \n",
       "57850804  alibaba group holding ltd.  said\\nusers of its search-engine service may now access technology\\nsupplied by  sohu.com inc. , as the two chinese companies \\nstrengthen collaboration to challenge industry leader  baidu inc.   users of alibaba’s etao.com search service may now o...   \n",
       "75532360  billionaire  carlos slim , the world’s\\nrichest man, said china must buy more and the u.s. needs to step\\nup private investment to reduce the trade imbalance and boost\\ntheir economies.  global currency devaluation efforts will fail in the\\nabsence of economic policies that f...   \n",
       "10176588  energy and industrial companies will\\nrise next year, propelling a 17 percent gain in the standard &\\npoor’s 500 index from its current level, according to cambiar\\ninvestors llc’s  brian barish .  next year will be marked by a “multi-speed recovery” as\\nindustries weakened b...   \n",
       "...                                                                                                                                                                                                                                                                                           ...   \n",
       "95653167  apple inc.  will open a digital\\nstorefront next month that will try to do for computer software\\nwhat it did for music and mobile applications.  the mac app store will open jan. 6, the cupertino,\\ncalifornia-based company said in a statement today. the aim is\\nto let mac own...   \n",
       "44065090  warren buffett , the billionaire who\\nhas promised to give away 99 percent of his fortune to charity,\\nmade his largest donation since the 2008 financial crisis after\\nprofits at his  berkshire hathaway inc.  jumped.  \\n the value of buffett’s annual gift to the foundation\\ne...   \n",
       "12166320  nintendo co.  will bar children ages\\n6 and younger from using the 3-d functions of its new handheld\\ngame machine at an introductory event for the device.  “looking at 3-d images for a long time may harm the growth\\nof children’s eyes,” nintendo  said  in a note to visitors ...   \n",
       "9764270   microsoft corp.  chief executive\\nofficer  steve ballmer  said tablet computers are high on his\\npriority list as apple inc. takes the lead in a market his\\ncompany has tried to foster for more than a decade.  \\n “today, one of the top issues on my mind is ‘hey there’s a\\ncat...   \n",
       "25935811  with many investors nervous as march\\nhares, this is a good time to look at stocks with high profits\\nand low debt.  \\n i don’t expect a double-dip recession, but if one happens,\\nthese companies should withstand it better than most. they\\nshould also do fine if the economy i...   \n",
       "\n",
       "                                                                                                                    path  \\\n",
       "id                                                                                                                         \n",
       "95357231    ./2008_2012_msft_bloomberg_news/netflix-quarterly-profit-increases-44-as-movie-rental-service-adds-users.txt   \n",
       "75227517      ./2008_2012_msft_bloomberg_news/republican-sweep-may-mean-tax-boon-for-u-s-multinationals-high-incomes.txt   \n",
       "57850804                             ./2008_2012_msft_bloomberg_news/alibaba-says-it-now-offers-sohu-s-search-engine.txt   \n",
       "75532360    ./2008_2012_msft_bloomberg_news/slim-solution-for-trade-imbalances-is-more-buying-by-china-u-s-investing.txt   \n",
       "10176588       ./2008_2012_msft_bloomberg_news/s-p-500-to-defy-pimco-s-new-normal-rise-17-by-end-of-2011-barish-says.txt   \n",
       "...                                                                                                                  ...   \n",
       "95653167    ./2008_2012_msft_bloomberg_news/apple-aims-to-do-for-computer-software-what-it-did-for-mobile-music-apps.txt   \n",
       "44065090  ./2008_2012_msft_bloomberg_news/buffett-donates-most-since-2008-after-urging-wealthiest-to-increase-giving.txt   \n",
       "12166320   ./2008_2012_msft_bloomberg_news/nintendo-bars-children-under-6-from-viewing-3-d-images-on-new-game-player.txt   \n",
       "9764270      ./2008_2012_msft_bloomberg_news/icrosoft-s-ballmer-says-tablet-computers-top-of-mind-amid-apple-success.txt   \n",
       "25935811                  ./2008_2012_msft_bloomberg_news/stocks-with-high-profit-low-debt-keep-me-calm-john-dorfman.txt   \n",
       "\n",
       "             Month  Day  Year  \\\n",
       "id                              \n",
       "95357231     April   21  2010   \n",
       "75227517  November    3  2010   \n",
       "57850804   October   29  2010   \n",
       "75532360   October   31  2010   \n",
       "10176588  December    1  2010   \n",
       "...            ...  ...   ...   \n",
       "95653167  December   16  2010   \n",
       "44065090      July    6  2010   \n",
       "12166320  December   30  2010   \n",
       "9764270       July   30  2010   \n",
       "25935811      June   28  2010   \n",
       "\n",
       "                                                first_sentence  \\\n",
       "id                                                               \n",
       "95357231  [{'label': 'NEGATIVE', 'score': 0.9986212253570557}]   \n",
       "75227517  [{'label': 'POSITIVE', 'score': 0.6244933605194092}]   \n",
       "57850804  [{'label': 'NEGATIVE', 'score': 0.9978576302528381}]   \n",
       "75532360  [{'label': 'POSITIVE', 'score': 0.9956529140472412}]   \n",
       "10176588  [{'label': 'POSITIVE', 'score': 0.8865005373954773}]   \n",
       "...                                                        ...   \n",
       "95653167  [{'label': 'NEGATIVE', 'score': 0.9945847392082214}]   \n",
       "44065090  [{'label': 'POSITIVE', 'score': 0.5365316271781921}]   \n",
       "12166320   [{'label': 'POSITIVE', 'score': 0.768213152885437}]   \n",
       "9764270   [{'label': 'NEGATIVE', 'score': 0.5879021883010864}]   \n",
       "25935811  [{'label': 'NEGATIVE', 'score': 0.8975276947021484}]   \n",
       "\n",
       "          sentiment_score     label  \n",
       "id                                   \n",
       "95357231        -0.998621  NEGATIVE  \n",
       "75227517         0.624493  POSITIVE  \n",
       "57850804        -0.997858  NEGATIVE  \n",
       "75532360         0.995653  POSITIVE  \n",
       "10176588         0.886501  POSITIVE  \n",
       "...                   ...       ...  \n",
       "95653167        -0.994585  NEGATIVE  \n",
       "44065090         0.536532  POSITIVE  \n",
       "12166320         0.768213  POSITIVE  \n",
       "9764270         -0.587902  NEGATIVE  \n",
       "25935811        -0.897528  NEGATIVE  \n",
       "\n",
       "[566 rows x 10 columns]"
      ]
     },
     "execution_count": 25,
     "metadata": {},
     "output_type": "execute_result"
    }
   ],
   "source": [
    "valid_msft_news_2010[\"sentiment_score\"] = valid_msft_news_2010[\"first_sentence\"].str[0].str[\"score\"]\n",
    "valid_msft_news_2010[\"label\"] = valid_msft_news_2010[\"first_sentence\"].str[0].str[\"label\"]\n",
    "neg_mask = valid_msft_news_2010[\"label\"] == \"NEGATIVE\"\n",
    "valid_msft_news_2010.loc[neg_mask, \"sentiment_score\"] = -valid_msft_news_2010.loc[neg_mask, \"sentiment_score\"]\n",
    "valid_msft_news_2010"
   ]
  },
  {
   "cell_type": "code",
   "execution_count": 26,
   "metadata": {
    "tags": []
   },
   "outputs": [
    {
     "data": {
      "text/html": [
       "<div>\n",
       "<style scoped>\n",
       "    .dataframe tbody tr th:only-of-type {\n",
       "        vertical-align: middle;\n",
       "    }\n",
       "\n",
       "    .dataframe tbody tr th {\n",
       "        vertical-align: top;\n",
       "    }\n",
       "\n",
       "    .dataframe thead th {\n",
       "        text-align: right;\n",
       "    }\n",
       "</style>\n",
       "<table border=\"1\" class=\"dataframe\">\n",
       "  <thead>\n",
       "    <tr style=\"text-align: right;\">\n",
       "      <th></th>\n",
       "      <th>title</th>\n",
       "      <th>released_at</th>\n",
       "      <th>content</th>\n",
       "      <th>path</th>\n",
       "      <th>Month</th>\n",
       "      <th>Day</th>\n",
       "      <th>Year</th>\n",
       "      <th>first_sentence</th>\n",
       "      <th>sentence_sentiment</th>\n",
       "    </tr>\n",
       "    <tr>\n",
       "      <th>id</th>\n",
       "      <th></th>\n",
       "      <th></th>\n",
       "      <th></th>\n",
       "      <th></th>\n",
       "      <th></th>\n",
       "      <th></th>\n",
       "      <th></th>\n",
       "      <th></th>\n",
       "      <th></th>\n",
       "    </tr>\n",
       "  </thead>\n",
       "  <tbody>\n",
       "    <tr>\n",
       "      <th>95357231</th>\n",
       "      <td>Netflix Profit Jumps 44% on New Users</td>\n",
       "      <td>&lt;date&gt;April 21 2010&lt;/date&gt; &lt;time&gt;23:52:36&lt;/time&gt;</td>\n",
       "      <td>netflix inc. said first-quarter\\nprofit rose 44 percent as the movie subscription service signed\\nup new customers and increased online offerings.  \\n net income advanced to $32.3 million, or 59 cents a share,\\nfrom $22.4 million, or 37 cents, a year earlier, the los gatos,\\n...</td>\n",
       "      <td>./2008_2012_msft_bloomberg_news/netflix-quarterly-profit-increases-44-as-movie-rental-service-adds-users.txt</td>\n",
       "      <td>April</td>\n",
       "      <td>21</td>\n",
       "      <td>2010</td>\n",
       "      <td>\\n “if we had offered a pay-per-view service for new\\nreleases, we would be in conflict with a broad range of\\ncompanies, including wal-mart, microsoft, sony and apple,”\\nhastings said.</td>\n",
       "      <td>-0.998621</td>\n",
       "    </tr>\n",
       "  </tbody>\n",
       "</table>\n",
       "</div>"
      ],
      "text/plain": [
       "                                          title  \\\n",
       "id                                                \n",
       "95357231  Netflix Profit Jumps 44% on New Users   \n",
       "\n",
       "                                               released_at  \\\n",
       "id                                                           \n",
       "95357231  <date>April 21 2010</date> <time>23:52:36</time>   \n",
       "\n",
       "                                                                                                                                                                                                                                                                                          content  \\\n",
       "id                                                                                                                                                                                                                                                                                                  \n",
       "95357231  netflix inc. said first-quarter\\nprofit rose 44 percent as the movie subscription service signed\\nup new customers and increased online offerings.  \\n net income advanced to $32.3 million, or 59 cents a share,\\nfrom $22.4 million, or 37 cents, a year earlier, the los gatos,\\n...   \n",
       "\n",
       "                                                                                                                  path  \\\n",
       "id                                                                                                                       \n",
       "95357231  ./2008_2012_msft_bloomberg_news/netflix-quarterly-profit-increases-44-as-movie-rental-service-adds-users.txt   \n",
       "\n",
       "          Month  Day  Year  \\\n",
       "id                           \n",
       "95357231  April   21  2010   \n",
       "\n",
       "                                                                                                                                                                                       first_sentence  \\\n",
       "id                                                                                                                                                                                                      \n",
       "95357231    \\n “if we had offered a pay-per-view service for new\\nreleases, we would be in conflict with a broad range of\\ncompanies, including wal-mart, microsoft, sony and apple,”\\nhastings said.   \n",
       "\n",
       "          sentence_sentiment  \n",
       "id                            \n",
       "95357231           -0.998621  "
      ]
     },
     "execution_count": 26,
     "metadata": {},
     "output_type": "execute_result"
    }
   ],
   "source": [
    "msft_news_2010[\"sentence_sentiment\"] = valid_msft_news_2010[\"sentiment_score\"]\n",
    "msft_news_2010.head(1)"
   ]
  },
  {
   "cell_type": "code",
   "execution_count": null,
   "metadata": {
    "deletable": false,
    "editable": false
   },
   "outputs": [],
   "source": [
    "grader.check(\"q3aii\")"
   ]
  },
  {
   "cell_type": "markdown",
   "metadata": {
    "deletable": false,
    "editable": false
   },
   "source": [
    "<br>\n",
    "\n",
    "---\n",
    "\n",
    "### Question 3b\n",
    "\n",
    "We can now turn to an alternative, more accurate way of determining the sentiment score of articles —— getting the sentiment based on the entire text, rather than getting sentiment based on the first sentence including \"microsoft\" or \"msft\" in the text. Let's load in `data/article_sentiment_logs.csv`, which contains sentiment scores of the full articles as a `DataFrame` `full_sentiments`. In this file, you are provided with logs which include the `id`, `score`, and `label` (\"N\" for \"NEGATIVE\" and \"P\" for \"POSITIVE\") in the following format: \n",
    "\n",
    "```\n",
    "<device:1> <id:77243971> <result: [0.9963290095329285 (N)]>\n",
    "<device:0> <id:14799046> <result: [0.9980687499046326 (N)]>\n",
    "<device:1> <id:43064156> <result: [0.997868537902832 (N)]>\n",
    "<device:1> <id:29402508> <result: [0.9924335479736328 (N)]>\n",
    "...\n",
    "```\n",
    "\n",
    "Run the following cell to load in the `DataFrame` and see what it contains:"
   ]
  },
  {
   "cell_type": "code",
   "execution_count": 74,
   "metadata": {
    "deletable": false,
    "editable": false
   },
   "outputs": [
    {
     "data": {
      "text/html": [
       "<div>\n",
       "<style scoped>\n",
       "    .dataframe tbody tr th:only-of-type {\n",
       "        vertical-align: middle;\n",
       "    }\n",
       "\n",
       "    .dataframe tbody tr th {\n",
       "        vertical-align: top;\n",
       "    }\n",
       "\n",
       "    .dataframe thead th {\n",
       "        text-align: right;\n",
       "    }\n",
       "</style>\n",
       "<table border=\"1\" class=\"dataframe\">\n",
       "  <thead>\n",
       "    <tr style=\"text-align: right;\">\n",
       "      <th></th>\n",
       "      <th>RunNum</th>\n",
       "      <th>log</th>\n",
       "    </tr>\n",
       "  </thead>\n",
       "  <tbody>\n",
       "    <tr>\n",
       "      <th>0</th>\n",
       "      <td>0</td>\n",
       "      <td>&lt;device:0&gt; &lt;id:77243971&gt; &lt;result: [0.9963290095329285 (N)]&gt;</td>\n",
       "    </tr>\n",
       "    <tr>\n",
       "      <th>1</th>\n",
       "      <td>1</td>\n",
       "      <td>&lt;device:0&gt; &lt;id:14799046&gt; &lt;result: [0.9980687499046326 (N)]&gt;</td>\n",
       "    </tr>\n",
       "    <tr>\n",
       "      <th>2</th>\n",
       "      <td>2</td>\n",
       "      <td>&lt;device:0&gt; &lt;id:43064156&gt; &lt;result: [0.997868537902832 (N)]&gt;</td>\n",
       "    </tr>\n",
       "    <tr>\n",
       "      <th>3</th>\n",
       "      <td>3</td>\n",
       "      <td>&lt;device:0&gt; &lt;id:29402508&gt; &lt;result: [0.9924335479736328 (N)]&gt;</td>\n",
       "    </tr>\n",
       "    <tr>\n",
       "      <th>4</th>\n",
       "      <td>4</td>\n",
       "      <td>&lt;device:0&gt; &lt;id:71427879&gt; &lt;result: [0.9897157549858093 (N)]&gt;</td>\n",
       "    </tr>\n",
       "  </tbody>\n",
       "</table>\n",
       "</div>"
      ],
      "text/plain": [
       "   RunNum                                                          log\n",
       "0       0  <device:0> <id:77243971> <result: [0.9963290095329285 (N)]>\n",
       "1       1  <device:0> <id:14799046> <result: [0.9980687499046326 (N)]>\n",
       "2       2   <device:0> <id:43064156> <result: [0.997868537902832 (N)]>\n",
       "3       3  <device:0> <id:29402508> <result: [0.9924335479736328 (N)]>\n",
       "4       4  <device:0> <id:71427879> <result: [0.9897157549858093 (N)]>"
      ]
     },
     "execution_count": 74,
     "metadata": {},
     "output_type": "execute_result"
    }
   ],
   "source": [
    "# Run this cell; no further action is needed\n",
    "full_sentiments = pd.read_csv('data/article_sentiment_logs.csv')\n",
    "full_sentiments.head()"
   ]
  },
  {
   "cell_type": "markdown",
   "metadata": {
    "deletable": false,
    "editable": false
   },
   "source": [
    "Using the logs, modify `full_sentiments` so it ultimately just contains the `id` and `content_score` (a number ranging from -1 to 1). Then, merge this with `msft_news_2010` so we can see the results of our two methods of calculating sentiment side by side. Assign this merged `DataFrame` to `msft_scores_2010`. After the merge, make sure that only articles from 2010 appear and that the index of the `DataFrame` is the article `id`.\n",
    "\n",
    "**Note 1:** You need to negate the score of negatively classified articles (indicated by \"N\").\n",
    "\n",
    "**Note 2:** If you run into issues when merging, you may need to reset `full_sentiments` by running the above cell again.\n",
    "\n",
    "**Hint 1:** The articles have a primary key `id`.\n",
    "\n",
    "**Hint 2:** Feel free to reference how you calculated sentiment scores in `q3aii`."
   ]
  },
  {
   "cell_type": "code",
   "execution_count": 75,
   "metadata": {
    "tags": []
   },
   "outputs": [
    {
     "data": {
      "text/html": [
       "<div>\n",
       "<style scoped>\n",
       "    .dataframe tbody tr th:only-of-type {\n",
       "        vertical-align: middle;\n",
       "    }\n",
       "\n",
       "    .dataframe tbody tr th {\n",
       "        vertical-align: top;\n",
       "    }\n",
       "\n",
       "    .dataframe thead th {\n",
       "        text-align: right;\n",
       "    }\n",
       "</style>\n",
       "<table border=\"1\" class=\"dataframe\">\n",
       "  <thead>\n",
       "    <tr style=\"text-align: right;\">\n",
       "      <th></th>\n",
       "      <th>content_score</th>\n",
       "      <th>title</th>\n",
       "      <th>released_at</th>\n",
       "      <th>content</th>\n",
       "      <th>path</th>\n",
       "      <th>Month</th>\n",
       "      <th>Day</th>\n",
       "      <th>Year</th>\n",
       "      <th>first_sentence</th>\n",
       "      <th>sentence_sentiment</th>\n",
       "    </tr>\n",
       "    <tr>\n",
       "      <th>id</th>\n",
       "      <th></th>\n",
       "      <th></th>\n",
       "      <th></th>\n",
       "      <th></th>\n",
       "      <th></th>\n",
       "      <th></th>\n",
       "      <th></th>\n",
       "      <th></th>\n",
       "      <th></th>\n",
       "      <th></th>\n",
       "    </tr>\n",
       "  </thead>\n",
       "  <tbody>\n",
       "    <tr>\n",
       "      <th>78274823</th>\n",
       "      <td>-0.992596</td>\n",
       "      <td>Stocks, Euro Gain After Greece Asks for Aid</td>\n",
       "      <td>&lt;date&gt;April 23 2010&lt;/date&gt; &lt;time&gt;10:24:06&lt;/time&gt;</td>\n",
       "      <td>stocks in europe rose and the euro\\nstrengthened from a one-year low against the dollar after greece\\nsaid it will ask the european union for a rescue package and\\ngerman business confidence and earnings at companies including\\nvolvo ab beat forecasts. greek stocks and bonds ...</td>\n",
       "      <td>./2008_2012_msft_bloomberg_news/stocks-euro-gain-after-greece-asks-for-aid.txt</td>\n",
       "      <td>April</td>\n",
       "      <td>23</td>\n",
       "      <td>2010</td>\n",
       "      <td>gains were\\nlimited as microsoft corp.</td>\n",
       "      <td>-0.996355</td>\n",
       "    </tr>\n",
       "  </tbody>\n",
       "</table>\n",
       "</div>"
      ],
      "text/plain": [
       "          content_score                                        title  \\\n",
       "id                                                                     \n",
       "78274823      -0.992596  Stocks, Euro Gain After Greece Asks for Aid   \n",
       "\n",
       "                                               released_at  \\\n",
       "id                                                           \n",
       "78274823  <date>April 23 2010</date> <time>10:24:06</time>   \n",
       "\n",
       "                                                                                                                                                                                                                                                                                          content  \\\n",
       "id                                                                                                                                                                                                                                                                                                  \n",
       "78274823  stocks in europe rose and the euro\\nstrengthened from a one-year low against the dollar after greece\\nsaid it will ask the european union for a rescue package and\\ngerman business confidence and earnings at companies including\\nvolvo ab beat forecasts. greek stocks and bonds ...   \n",
       "\n",
       "                                                                                    path  \\\n",
       "id                                                                                         \n",
       "78274823  ./2008_2012_msft_bloomberg_news/stocks-euro-gain-after-greece-asks-for-aid.txt   \n",
       "\n",
       "          Month  Day  Year                           first_sentence  \\\n",
       "id                                                                    \n",
       "78274823  April   23  2010   gains were\\nlimited as microsoft corp.   \n",
       "\n",
       "          sentence_sentiment  \n",
       "id                            \n",
       "78274823           -0.996355  "
      ]
     },
     "execution_count": 75,
     "metadata": {},
     "output_type": "execute_result"
    }
   ],
   "source": [
    "full_sentiments[[\"id\", \"content_score\", \"sign\"]] = (\n",
    "    full_sentiments[\"log\"].str\n",
    "    .extract(\n",
    "        pat=r\"<id:(\\d+)?> <result: \\[(\\d\\.\\d+) \\((\\w)\\)\\]\"\n",
    "    )\n",
    ")\n",
    "full_sentiments[\"content_score\"] = full_sentiments[\"content_score\"].astype(float)\n",
    "neg_mask = full_sentiments[\"sign\"] == \"N\"\n",
    "full_sentiments.loc[neg_mask, \"content_score\"] = -full_sentiments.loc[neg_mask, \"content_score\"]\n",
    "full_sentiments[\"id\"] = full_sentiments[\"id\"].astype(int)\n",
    "full_sentiments = full_sentiments[[\"id\", \"content_score\"]]\n",
    "full_sentiments = full_sentiments.set_index(\"id\")\n",
    "\n",
    "msft_scores_2010 = pd.merge(\n",
    "    left=full_sentiments,\n",
    "    right=msft_news_2010,\n",
    "    left_index=True,\n",
    "    right_index=True\n",
    ")\n",
    "\n",
    "msft_scores_2010.head(1)"
   ]
  },
  {
   "cell_type": "code",
   "execution_count": 76,
   "metadata": {
    "deletable": false,
    "editable": false
   },
   "outputs": [
    {
     "data": {
      "text/html": [
       "<p><strong><pre style='display: inline;'>q3b</pre></strong> passed! 🚀</p>"
      ],
      "text/plain": [
       "q3b results: All test cases passed!"
      ]
     },
     "execution_count": 76,
     "metadata": {},
     "output_type": "execute_result"
    }
   ],
   "source": [
    "grader.check(\"q3b\")"
   ]
  },
  {
   "cell_type": "markdown",
   "metadata": {},
   "source": [
    "<br>\n",
    "\n",
    "---\n",
    "\n",
    "### Question 3c\n",
    "\n",
    "Let's dive deeper into our two methods of calculating sentiment and analyze the accuracy of the method used in `q3b`.\n"
   ]
  },
  {
   "cell_type": "markdown",
   "metadata": {
    "deletable": false,
    "editable": false
   },
   "source": [
    "#### Question 3c, Part i\n",
    "\n",
    "Calculate the difference between `content_score` and `sentence_sentiment`. Create a new column `sentiment_difference` in our `DataFrame` `msft_scores_2010` with these values.\n"
   ]
  },
  {
   "cell_type": "code",
   "execution_count": 77,
   "metadata": {
    "tags": []
   },
   "outputs": [
    {
     "data": {
      "text/html": [
       "<div>\n",
       "<style scoped>\n",
       "    .dataframe tbody tr th:only-of-type {\n",
       "        vertical-align: middle;\n",
       "    }\n",
       "\n",
       "    .dataframe tbody tr th {\n",
       "        vertical-align: top;\n",
       "    }\n",
       "\n",
       "    .dataframe thead th {\n",
       "        text-align: right;\n",
       "    }\n",
       "</style>\n",
       "<table border=\"1\" class=\"dataframe\">\n",
       "  <thead>\n",
       "    <tr style=\"text-align: right;\">\n",
       "      <th></th>\n",
       "      <th>content_score</th>\n",
       "      <th>title</th>\n",
       "      <th>released_at</th>\n",
       "      <th>content</th>\n",
       "      <th>path</th>\n",
       "      <th>Month</th>\n",
       "      <th>Day</th>\n",
       "      <th>Year</th>\n",
       "      <th>first_sentence</th>\n",
       "      <th>sentence_sentiment</th>\n",
       "      <th>sentiment_difference</th>\n",
       "    </tr>\n",
       "    <tr>\n",
       "      <th>id</th>\n",
       "      <th></th>\n",
       "      <th></th>\n",
       "      <th></th>\n",
       "      <th></th>\n",
       "      <th></th>\n",
       "      <th></th>\n",
       "      <th></th>\n",
       "      <th></th>\n",
       "      <th></th>\n",
       "      <th></th>\n",
       "      <th></th>\n",
       "    </tr>\n",
       "  </thead>\n",
       "  <tbody>\n",
       "    <tr>\n",
       "      <th>78274823</th>\n",
       "      <td>-0.992596</td>\n",
       "      <td>Stocks, Euro Gain After Greece Asks for Aid</td>\n",
       "      <td>&lt;date&gt;April 23 2010&lt;/date&gt; &lt;time&gt;10:24:06&lt;/time&gt;</td>\n",
       "      <td>stocks in europe rose and the euro\\nstrengthened from a one-year low against the dollar after greece\\nsaid it will ask the european union for a rescue package and\\ngerman business confidence and earnings at companies including\\nvolvo ab beat forecasts. greek stocks and bonds ...</td>\n",
       "      <td>./2008_2012_msft_bloomberg_news/stocks-euro-gain-after-greece-asks-for-aid.txt</td>\n",
       "      <td>April</td>\n",
       "      <td>23</td>\n",
       "      <td>2010</td>\n",
       "      <td>gains were\\nlimited as microsoft corp.</td>\n",
       "      <td>-0.996355</td>\n",
       "      <td>0.00376</td>\n",
       "    </tr>\n",
       "  </tbody>\n",
       "</table>\n",
       "</div>"
      ],
      "text/plain": [
       "          content_score                                        title  \\\n",
       "id                                                                     \n",
       "78274823      -0.992596  Stocks, Euro Gain After Greece Asks for Aid   \n",
       "\n",
       "                                               released_at  \\\n",
       "id                                                           \n",
       "78274823  <date>April 23 2010</date> <time>10:24:06</time>   \n",
       "\n",
       "                                                                                                                                                                                                                                                                                          content  \\\n",
       "id                                                                                                                                                                                                                                                                                                  \n",
       "78274823  stocks in europe rose and the euro\\nstrengthened from a one-year low against the dollar after greece\\nsaid it will ask the european union for a rescue package and\\ngerman business confidence and earnings at companies including\\nvolvo ab beat forecasts. greek stocks and bonds ...   \n",
       "\n",
       "                                                                                    path  \\\n",
       "id                                                                                         \n",
       "78274823  ./2008_2012_msft_bloomberg_news/stocks-euro-gain-after-greece-asks-for-aid.txt   \n",
       "\n",
       "          Month  Day  Year                           first_sentence  \\\n",
       "id                                                                    \n",
       "78274823  April   23  2010   gains were\\nlimited as microsoft corp.   \n",
       "\n",
       "          sentence_sentiment  sentiment_difference  \n",
       "id                                                  \n",
       "78274823           -0.996355               0.00376  "
      ]
     },
     "execution_count": 77,
     "metadata": {},
     "output_type": "execute_result"
    }
   ],
   "source": [
    "msft_scores_2010['sentiment_difference'] = msft_scores_2010[\"content_score\"] - msft_scores_2010[\"sentence_sentiment\"]\n",
    "msft_scores_2010.head(1)"
   ]
  },
  {
   "cell_type": "code",
   "execution_count": null,
   "metadata": {
    "deletable": false,
    "editable": false
   },
   "outputs": [],
   "source": [
    "grader.check(\"q3ci\")"
   ]
  },
  {
   "cell_type": "markdown",
   "metadata": {
    "deletable": false,
    "editable": false
   },
   "source": [
    "<!-- BEGIN QUESTION -->\n",
    "\n",
    "#### Question 3c, Part ii\n",
    "\n",
    "Below we have provided a plot looking at these differences. Comment on why we see differences when calculating the sentiment of an article as the sentiment of the first sentence mentioning \"microsoft\" or \"msft\" in the article versus the sentiment of the entire article itself. How does context play a role when evaluating the sentiment of a text?"
   ]
  },
  {
   "cell_type": "code",
   "execution_count": 79,
   "metadata": {
    "deletable": false,
    "editable": false
   },
   "outputs": [
    {
     "data": {
      "image/png": "[encoded data removed]",
      "text/plain": [
       "<Figure size 640x480 with 1 Axes>"
      ]
     },
     "metadata": {},
     "output_type": "display_data"
    }
   ],
   "source": [
    "sns.kdeplot(msft_scores_2010['sentiment_difference'])\n",
    "plt.xlabel('Sentiment difference')\n",
    "plt.title('Difference between full and approximate sentiment scores');"
   ]
  },
  {
   "cell_type": "markdown",
   "metadata": {},
   "source": [
    "When we calculate sentiment only from the first sentence mentioning \"Microsoft\" or \"MSFT\", we’re essentially zooming in on a single moment in the text, without the benefit of the surrounding context. That sentence might sound very positive or very negative in isolation, but its tone could be softened, contradicted, or clarified by later sentences in the article.\n",
    "\n",
    "For example:\n",
    "\n",
    "\"Microsoft’s stock fell sharply today, but analysts believe this dip is temporary and the company’s long-term prospects remain strong.\"\n",
    "\n",
    "First sentence alone → Negative sentiment.\n",
    "\n",
    "Whole article → Neutral or Positive sentiment.\n",
    "\n",
    "In contrast, calculating sentiment for the entire article captures the full narrative, averaging out extreme sentiments in individual sentences and providing a more balanced representation of the writer’s stance.\n",
    "\n",
    "Role of context:\n",
    "\n",
    "Clarification – Later sentences can reframe initial statements.\n",
    "\n",
    "Contrast – Early mentions might be emotional, but the overall article may shift tone.\n",
    "\n",
    "Supporting detail – Extra information can either strengthen or dilute the initial emotional signal.\n",
    "\n",
    "In short:\n",
    "\n",
    "First-sentence sentiment → sensitive to local tone, more volatile.\n",
    "\n",
    "Full-article sentiment → reflects the broader context, more stable and representative."
   ]
  },
  {
   "cell_type": "markdown",
   "metadata": {
    "deletable": false,
    "editable": false
   },
   "source": [
    "<!-- END QUESTION -->\n",
    "\n",
    "<hr style=\"border: 5px solid #003262;\" />\n",
    "<hr style=\"border: 1px solid #fdb515;\" />\n",
    "\n",
    "## Sonia says congratulations! You have finished Homework 3!\n",
    "\n",
    "<img src = \"images/sonia.jpg\" width = \"200\">\n",
    "\n",
    "### Course Content Feedback\n",
    "\n",
    "If you have any feedback about this assignment or about any of our other weekly, weekly assignments, lectures, or discussions, please fill out the [Course Content Feedback Form](https://docs.google.com/forms/d/e/1FAIpQLSe0fBEJwt6aEfZxU3fh3llNk8rSWHj6Umq0km3wPqmFu0MlGA/viewform). Your input is valuable in helping us improve the quality and relevance of our content to better meet your needs and expectations!\n",
    "\n",
    "### Submission Instructions\n",
    "\n",
    "Below, you will see a cell. Running this cell will automatically generate a zip file with your autograded answers. Once you submit this file to the HW 3 Coding assignment on Gradescope, Gradescope will automatically submit a PDF file with your written answers to the HW 3 Written assignment. If you run into any issues when running this cell, feel free to check this [section](https://ds100.org/debugging-guide/autograder_gradescope/autograder_gradescope.html#why-does-grader.exportrun_teststrue-fail-if-all-previous-tests-passed) in the Data 100 Debugging Guide.\n",
    "\n",
    "**Important**: Please check that your written responses were generated and submitted correctly to the HW 3 Written Assignment.\n",
    "\n",
    "**You are responsible for ensuring your submission follows our requirements and that the PDF for HW 3 written answers was generated/submitted correctly. We will not be granting regrade requests nor extensions to submissions that don't follow instructions.** If you encounter any difficulties with submission, please don't hesitate to reach out to staff prior to the deadline.\n"
   ]
  },
  {
   "cell_type": "markdown",
   "metadata": {
    "deletable": false,
    "editable": false
   },
   "source": [
    "## Submission\n",
    "\n",
    "Make sure you have run all cells in your notebook in order before running the cell below, so that all images/graphs appear in the output. The cell below will generate a zip file for you to submit. **Please save before exporting!**"
   ]
  },
  {
   "cell_type": "code",
   "execution_count": null,
   "metadata": {
    "deletable": false,
    "editable": false
   },
   "outputs": [],
   "source": [
    "# Save your notebook first, then run this cell to export your submission.\n",
    "grader.export(run_tests=True)"
   ]
  },
  {
   "cell_type": "markdown",
   "metadata": {},
   "source": [
    " "
   ]
  }
 ],
 "metadata": {
  "kernelspec": {
   "display_name": "Python [conda env:base] *",
   "language": "python",
   "name": "conda-base-py"
  },
  "language_info": {
   "codemirror_mode": {
    "name": "ipython",
    "version": 3
   },
   "file_extension": ".py",
   "mimetype": "text/x-python",
   "name": "python",
   "nbconvert_exporter": "python",
   "pygments_lexer": "ipython3",
   "version": "3.13.5"
  },
  "otter": {
   "OK_FORMAT": true,
   "require_no_pdf_confirmation": true,
   "tests": {
    "q1a": {
     "name": "q1a",
     "points": 1,
     "suites": [
      {
       "cases": [
        {
         "code": ">>> len(q1a) == 1000\nTrue",
         "hidden": false,
         "locked": false
        },
        {
         "code": ">>> q1a.startswith('[{\"id\":46243185,\"title\":\"Ope')\nTrue",
         "hidden": false,
         "locked": false
        },
        {
         "code": ">>> 'companies such as  Microsoft Corp. ' in q1a\nTrue",
         "hidden": false,
         "locked": false
        }
       ],
       "scored": true,
       "setup": "",
       "teardown": "",
       "type": "doctest"
      }
     ]
    },
    "q1b": {
     "name": "q1b",
     "points": 1,
     "suites": [
      {
       "cases": [
        {
         "code": ">>> q1b.upper() in ['A', 'B', 'C', 'D']\nTrue",
         "hidden": false,
         "locked": false,
         "points": 0
        }
       ],
       "scored": true,
       "setup": "",
       "teardown": "",
       "type": "doctest"
      }
     ]
    },
    "q1c": {
     "name": "q1c",
     "points": 3,
     "suites": [
      {
       "cases": [
        {
         "code": ">>> msft_news_df.index.name == 'id'\nTrue",
         "hidden": false,
         "locked": false
        },
        {
         "code": ">>> set(['title', 'released_at', 'content', 'path']) == set(msft_news_df.columns)\nTrue",
         "hidden": false,
         "locked": false
        },
        {
         "code": ">>> msft_news_df.shape == (4635, 4)\nTrue",
         "hidden": false,
         "locked": false
        },
        {
         "code": ">>> np.random.seed(100)\n>>> expected = set([10511979, 35357277, 49432195, 52444917, 70540777, 80595106, 86731456, 88502258, 91893641, 97354949])\n>>> set(np.random.choice(sorted(msft_news_df.index), replace=False, size=10)) == expected\nTrue",
         "hidden": false,
         "locked": false
        }
       ],
       "scored": true,
       "setup": "",
       "teardown": "",
       "type": "doctest"
      }
     ]
    },
    "q2a": {
     "name": "q2a",
     "points": 2,
     "suites": [
      {
       "cases": [
        {
         "code": ">>> {'Day', 'Hour', 'Minute', 'Month', 'Second', 'Year'} == set(dates.columns)\nTrue",
         "hidden": false,
         "locked": false
        },
        {
         "code": ">>> set(dates['Month'].unique()) == {'April', 'August', 'November', 'December', 'February', 'May', 'October', 'September', 'January', 'June', 'March', 'July'}\nTrue",
         "hidden": false,
         "locked": false
        },
        {
         "code": ">>> dates['Year'].iloc[0].dtype == int\nTrue",
         "hidden": false,
         "locked": false
        },
        {
         "code": ">>> dates['Day'].iloc[0].dtype == int\nTrue",
         "hidden": false,
         "locked": false
        },
        {
         "code": ">>> dates['Hour'].iloc[0].dtype == int\nTrue",
         "hidden": false,
         "locked": false
        },
        {
         "code": ">>> dates['Minute'].iloc[0].dtype == int\nTrue",
         "hidden": false,
         "locked": false
        },
        {
         "code": ">>> dates['Second'].iloc[0].dtype == int\nTrue",
         "hidden": false,
         "locked": false
        }
       ],
       "scored": true,
       "setup": "",
       "teardown": "",
       "type": "doctest"
      }
     ]
    },
    "q2b": {
     "name": "q2b",
     "points": 1,
     "suites": [
      {
       "cases": [
        {
         "code": ">>> msft_news_2010.shape == (568, 7)\nTrue",
         "hidden": false,
         "locked": false
        },
        {
         "code": ">>> msft_news_2010.index.name == 'id'\nTrue",
         "hidden": false,
         "locked": false
        },
        {
         "code": ">>> set(msft_news_2010.columns) == {'Day', 'Month', 'Year', 'content', 'path', 'released_at', 'title'}\nTrue",
         "hidden": false,
         "locked": false
        }
       ],
       "scored": true,
       "setup": "",
       "teardown": "",
       "type": "doctest"
      }
     ]
    },
    "q2c": {
     "name": "q2c",
     "points": 2,
     "suites": [
      {
       "cases": [
        {
         "code": ">>> msft_news_df.shape[0] == 4635\nTrue",
         "hidden": false,
         "locked": false
        },
        {
         "code": ">>> set(msft_news_df.columns) == {'amazon', 'apple', 'content', 'facebook', 'netflix', 'nintendo', 'path', 'released_at', 'sony', 'title'}\nTrue",
         "hidden": false,
         "locked": false
        }
       ],
       "scored": true,
       "setup": "",
       "teardown": "",
       "type": "doctest"
      }
     ]
    },
    "q2di": {
     "name": "q2di",
     "points": 1,
     "suites": [
      {
       "cases": [
        {
         "code": ">>> year_news.shape == (4, 6)\nTrue",
         "hidden": false,
         "locked": false
        },
        {
         "code": ">>> set(year_news.columns) == {'amazon', 'apple', 'facebook', 'netflix', 'nintendo', 'sony'}\nTrue",
         "hidden": false,
         "locked": false
        },
        {
         "code": ">>> set(year_news.index) == {2010, 2011, 2012, 2013}\nTrue",
         "hidden": false,
         "locked": false
        }
       ],
       "scored": true,
       "setup": "",
       "teardown": "",
       "type": "doctest"
      }
     ]
    },
    "q3ai": {
     "name": "q3ai",
     "points": 1,
     "suites": [
      {
       "cases": [
        {
         "code": ">>> 'first_sentence' in msft_news_2010.columns\nTrue",
         "hidden": false,
         "locked": false
        },
        {
         "code": ">>> msft_news_2010.shape == (568, 8)\nTrue",
         "hidden": false,
         "locked": false
        },
        {
         "code": ">>> re.findall(microsoft_re, 'the other thing. The capital of seattle is microsoft headquarters. I live near msft! The end.') == [' The capital of seattle is microsoft headquarters.', ' I live near msft!']\nTrue",
         "hidden": false,
         "locked": false
        },
        {
         "code": ">>> re.findall(microsoft_re, 'hello') == []\nTrue",
         "hidden": false,
         "locked": false
        }
       ],
       "scored": true,
       "setup": "",
       "teardown": "",
       "type": "doctest"
      }
     ]
    },
    "q3aii": {
     "name": "q3aii",
     "points": 1,
     "suites": [
      {
       "cases": [
        {
         "code": ">>> 'sentence_sentiment' in msft_news_2010.columns\nTrue",
         "hidden": false,
         "locked": false
        },
        {
         "code": ">>> msft_news_2010.shape == (568, 9)\nTrue",
         "hidden": false,
         "locked": false
        },
        {
         "code": ">>> set(msft_news_2010.columns) == {'Day', 'Month', 'Year', 'content', 'first_sentence', 'path', 'released_at', 'sentence_sentiment', 'title'}\nTrue",
         "hidden": false,
         "locked": false
        },
        {
         "code": ">>> msft_news_2010['sentence_sentiment'].iloc[1] <= 1 and msft_news_2010['sentence_sentiment'].iloc[1] >= -1\nTrue",
         "hidden": false,
         "locked": false
        }
       ],
       "scored": true,
       "setup": "",
       "teardown": "",
       "type": "doctest"
      }
     ]
    },
    "q3b": {
     "name": "q3b",
     "points": 2,
     "suites": [
      {
       "cases": [
        {
         "code": ">>> 'content_score' in msft_scores_2010.columns\nTrue",
         "hidden": false,
         "locked": false
        },
        {
         "code": ">>> 'sentence_sentiment' in msft_scores_2010.columns\nTrue",
         "hidden": false,
         "locked": false
        }
       ],
       "scored": true,
       "setup": "",
       "teardown": "",
       "type": "doctest"
      }
     ]
    },
    "q3ci": {
     "name": "q3ci",
     "points": 1,
     "suites": [
      {
       "cases": [
        {
         "code": ">>> 'sentiment_difference' in msft_scores_2010.columns\nTrue",
         "hidden": false,
         "locked": false
        },
        {
         "code": ">>> msft_scores_2010['sentiment_difference'].iloc[20] <= 2 and msft_scores_2010['sentiment_difference'].iloc[20] >= -2\nTrue",
         "hidden": false,
         "locked": false
        }
       ],
       "scored": true,
       "setup": "",
       "teardown": "",
       "type": "doctest"
      }
     ]
    }
   }
  }
 },
 "nbformat": 4,
 "nbformat_minor": 4
}
